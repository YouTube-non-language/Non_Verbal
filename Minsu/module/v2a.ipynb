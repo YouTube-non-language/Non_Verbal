{
 "cells": [
  {
   "cell_type": "code",
   "execution_count": null,
   "metadata": {},
   "outputs": [],
   "source": [
    "from moviepy.editor import VideoFileClip\n",
    "import os\n",
    "\n",
    "def extract_audio(video_path):\n",
    "    # 입력 받은 동영상의 경로를 입력 받고 오디오가 저장될 폴더를 만들어서 추출된 동영상의 이름과 동일한 '.mp3'파일을 만듭니다.\n",
    "    audio_path = '/'.join(video_path.split('/')[:-2]) + \"/audios\"\n",
    "    video_file = video_path.split('/')[-1]\n",
    "    audio_file = video_file.split('.')[0] + \".mp3\"\n",
    "    audio_ = audio_path + '/' + audio_file\n",
    "\n",
    "    try:\n",
    "        # ./audios 디렉토리를 만듭니다.\n",
    "        os.makedirs(audio_path)\n",
    "    except FileExistsError:\n",
    "        pass\n",
    "    \n",
    "    # 동영상 파일을 VideoFileClip 객체로 불러옵니다.\n",
    "    video = VideoFileClip(video_path)\n",
    "    \n",
    "    # 동영상 파일로부터 오디오를 추출합니다.\n",
    "    audio = video.audio\n",
    "    \n",
    "    # 오디오를 파일로 출력합니다.\n",
    "    audio.write_audiofile(audio_)\n",
    "    \n",
    "    # VideoFileClip 객체와 연결된 자원을 해제합니다.\n",
    "    video.close()\n",
    "\n",
    "video_path = \"../videos/오리엔테이션_(고3-기본).mp4\"\n",
    "\n",
    "if __name__ == \"__main__\" :\n",
    "    # 동영상 파일에서 오디오를 추출합니다.\n",
    "    extract_audio(video_path)"
   ]
  },
  {
   "cell_type": "code",
   "execution_count": null,
   "metadata": {},
   "outputs": [],
   "source": [
    "video_path = \"../videos/오리엔테이션_(고3-기본).mp4\"\n",
    "audio_path = '/'.join(video_path.split('/')[:-2]) + \"/audios\"\n",
    "\n",
    "video_file = video_path.split('/')[-1]\n",
    "audio_file = video_file.split('.')[0] + \".mp3\"\n",
    "\n",
    "audio_ = audio_path + '/' + audio_file"
   ]
  },
  {
   "cell_type": "code",
   "execution_count": null,
   "metadata": {},
   "outputs": [],
   "source": [
    "print(video_path)\n",
    "print(audio_path)\n",
    "print(video_file)\n",
    "print(audio_file)\n",
    "print(audio_)"
   ]
  },
  {
   "cell_type": "code",
   "execution_count": null,
   "metadata": {},
   "outputs": [],
   "source": []
  }
 ],
 "metadata": {
  "kernelspec": {
   "display_name": "bot",
   "language": "python",
   "name": "python3"
  },
  "language_info": {
   "codemirror_mode": {
    "name": "ipython",
    "version": 3
   },
   "file_extension": ".py",
   "mimetype": "text/x-python",
   "name": "python",
   "nbconvert_exporter": "python",
   "pygments_lexer": "ipython3",
   "version": "3.10.9"
  }
 },
 "nbformat": 4,
 "nbformat_minor": 2
}
