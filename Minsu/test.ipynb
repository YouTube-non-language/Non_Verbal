{
 "cells": [
  {
   "cell_type": "code",
   "execution_count": null,
   "metadata": {},
   "outputs": [],
   "source": [
    "import cv2\n",
    "import time\n",
    "import PoseModule as pm"
   ]
  },
  {
   "cell_type": "code",
   "execution_count": null,
   "metadata": {},
   "outputs": [],
   "source": [
    "cap = cv2.VideoCapture(\"../Videsos/오리엔테이션_(고3-기본).mp4\")\n",
    "pTime = 0\n",
    "detector = pm.poseDetector()\n",
    "while True :\n",
    "    # 영상 읽기\n",
    "    success, img = cap.read()\n",
    "    # 각 함수 실행\n",
    "    img = detector.findPose(img)\n",
    "    lmList = detector.findPosition(img, draw = False)\n",
    "    print(lmList)\n",
    "    \n",
    "    # # 강조하고 싶은 포인트 (IndexError: list index out of range 에러 발생)\n",
    "    # point_1 = 0\n",
    "    # point_2 = 15\n",
    "    # point_3 = 16\n",
    "    # if len(lmList) != 0 :\n",
    "    #     print(lmList[point_1], lmList[point_2], lmList[point_3])\n",
    "    #     cv2.circle(img, (lmList[point_1][1], lmList[point_1][2]), 7, (0, 255, 0), cv2.FILLED)\n",
    "    #     cv2.circle(img, (lmList[point_2][1], lmList[point_2][2]), 7, (255, 0, 0), cv2.FILLED)\n",
    "    #     cv2.circle(img, (lmList[point_3][1], lmList[point_3][2]), 7, (255, 0, 0), cv2.FILLED)\n",
    "\n",
    "    # 영상에 프레임 표시\n",
    "    cTime = time.time()\n",
    "    fps = 1 / (cTime - pTime)\n",
    "    pTime = cTime\n",
    "    \n",
    "    cv2.putText(img, str(int(fps)), (70, 50), cv2.FONT_HERSHEY_PLAIN, 2, (255, 0, 0), 3)\n",
    "    \n",
    "    # 영상 보여주기\n",
    "    cv2.imshow(\"Image\", img)\n",
    "    \n",
    "    # 1 밀리세컨드 만큼 딜레이\n",
    "    cv2.waitKey(1)\n",
    "\n",
    "# 얼굴\n",
    "# 0 - nose / 코\n",
    "# 1 - left eye (inner) / 왼쪽 눈 (안)\n",
    "# 2 - left eye / 왼쪽 눈\n",
    "# 3 - left eye (outer) / 왼쪽 눈 (밖)\n",
    "# 4 - right eye (inner) / 오른쪽 눈 (안)\n",
    "# 5 - right eye / 오른쪽 눈 \n",
    "# 6 - right eye (outer) / 오른쪽 눈 (밖)\n",
    "# 7 - left ear / 왼쪽 귀\n",
    "# 8 - right ear / 오른쪽 귀\n",
    "# 9 - mouth (left) / 입 (왼쪽)\n",
    "# 10 - mouth (right) / 입 (오른쪽)\n",
    "\n",
    "# 몸\n",
    "# 11 - left shoulder / 왼쪽 어깨\n",
    "# 12 - right shoulder / 오른쪽 어깨\n",
    "# 13 - left elbow / 왼쪽 팔꿈치\n",
    "# 14 - right elbow / 오른쪽 팔꿈치\n",
    "# 15 - left wrist / 왼쪽 손목\n",
    "# 16 - right wrist / 오른쪽 손목\n",
    "# 17 - left pinky / 왼쪽 새끼손가락\n",
    "# 18 - right pinky / 오른쪽 새끼손가락\n",
    "# 19 - left index / 왼쪽 검지손가락\n",
    "# 20 - right index / 오른쪽 검지손가락\n",
    "# 21 - left thumb / 왼쪽 엄지손가락\n",
    "# 22 - right thumb / 오른쪽 엄지손가락\n",
    "# 23 - left hip / 왼쪽 엉덩이\n",
    "# 24 - right hip / 오른쪽 엉덩이\n",
    "# 25 - left knee / 왼쪽 무릎\n",
    "# 26 - right knee / 오른쪽 무릎\n",
    "# 27 - left ankle / 왼쪽 발목\n",
    "# 28 - right ankle / 오른쪽 발목\n",
    "# 29 - left heel / 왼쪽 발뒤꿈치\n",
    "# 30 - right heel / 오른쪽 발뒤꿈치\n",
    "# 31 - left foot index / 왼쪽 발끝\n",
    "# 32 - right foot index / 오른쪽 발끝"
   ]
  },
  {
   "cell_type": "code",
   "execution_count": null,
   "metadata": {},
   "outputs": [],
   "source": [
    "import mediapipe"
   ]
  },
  {
   "cell_type": "code",
   "execution_count": null,
   "metadata": {},
   "outputs": [],
   "source": [
    "help(mediapipe.solutions.pose.Pose)"
   ]
  },
  {
   "cell_type": "code",
   "execution_count": null,
   "metadata": {},
   "outputs": [],
   "source": []
  }
 ],
 "metadata": {
  "kernelspec": {
   "display_name": "bot",
   "language": "python",
   "name": "python3"
  },
  "language_info": {
   "codemirror_mode": {
    "name": "ipython",
    "version": 3
   },
   "file_extension": ".py",
   "mimetype": "text/x-python",
   "name": "python",
   "nbconvert_exporter": "python",
   "pygments_lexer": "ipython3",
   "version": "3.9.18"
  }
 },
 "nbformat": 4,
 "nbformat_minor": 2
}
