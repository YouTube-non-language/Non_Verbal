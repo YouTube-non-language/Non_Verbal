{
 "cells": [
  {
   "cell_type": "code",
   "execution_count": 1,
   "metadata": {},
   "outputs": [
    {
     "name": "stderr",
     "output_type": "stream",
     "text": [
      "C:\\Users\\user\\AppData\\Local\\Temp\\ipykernel_27128\\416243839.py:3: UserWarning: \n",
      "The dash_core_components package is deprecated. Please replace\n",
      "`import dash_core_components as dcc` with `from dash import dcc`\n",
      "  import dash_core_components as dcc\n",
      "C:\\Users\\user\\AppData\\Local\\Temp\\ipykernel_27128\\416243839.py:4: UserWarning: \n",
      "The dash_html_components package is deprecated. Please replace\n",
      "`import dash_html_components as html` with `from dash import html`\n",
      "  import dash_html_components as html\n"
     ]
    },
    {
     "data": {
      "text/html": [
       "\n",
       "        <iframe\n",
       "            width=\"100%\"\n",
       "            height=\"650\"\n",
       "            src=\"http://127.0.0.1:8050/\"\n",
       "            frameborder=\"0\"\n",
       "            allowfullscreen\n",
       "            \n",
       "        ></iframe>\n",
       "        "
      ],
      "text/plain": [
       "<IPython.lib.display.IFrame at 0x1c9aca4f550>"
      ]
     },
     "metadata": {},
     "output_type": "display_data"
    }
   ],
   "source": [
    "import dash\n",
    "from dash.dependencies import Output, Input, State\n",
    "import dash_core_components as dcc\n",
    "import dash_html_components as html\n",
    "import cv2\n",
    "import numpy as np\n",
    "from dash.exceptions import PreventUpdate\n",
    "import plotly.express as px\n",
    "from PIL import Image\n",
    "app = dash.Dash()\n",
    "server = app.server\n",
    "\n",
    "app.layout = html.Div(children = [\n",
    "\n",
    "    html.Div([\n",
    "        html.Div([\n",
    "            dcc.Upload(\n",
    "                id='upload_file_1',\n",
    "                children=[\n",
    "                    html.Button('Upload File 1', id='file_upload_btn_1', n_clicks=0, style={'width': '240px', 'height':'40px'})]\n",
    "        )], style={'display': 'inline-block'}),\n",
    "        html.Div(id='file_upload_success_1', style={'display': 'inline-block'}),\n",
    "    ]),\n",
    "\n",
    "    \n",
    "\n",
    "    html.Button('Submit', id='submit_btn', n_clicks=0,\n",
    "                style={'width': '300px', 'height':'60px'}),\n",
    "    \n",
    "    # html.Button('Save', id='submit', n_clicks=0,\n",
    "    #             style={'width': '300px', 'height':'60px'}),\n",
    "    \n",
    "    html.Video(\n",
    "        controls=True,\n",
    "        id='video_player',\n",
    "        src={},\n",
    "        autoPlay=False,\n",
    "        style={'width': \"70%\"}\n",
    "    ),\n",
    "\n",
    "    html.Div(id='display_output')\n",
    "])\n",
    "\n",
    "@app.callback(Output('file_upload_success_1', 'children'),\n",
    "              Input('file_upload_btn_1', 'n_clicks'),\n",
    "              Input('upload_file_1', 'contents'),\n",
    "              State('upload_file_1', 'filename'))\n",
    "def update_success_message(n_clicks, contents, filename):\n",
    "    if n_clicks and contents:\n",
    "        return \"File '{}' uploaded\".format(filename)\n",
    "\n",
    "\n",
    "\n",
    "\n",
    "    \n",
    "if __name__ == '__main__':\n",
    "    app.run_server()"
   ]
  },
  {
   "cell_type": "code",
   "execution_count": 2,
   "metadata": {},
   "outputs": [
    {
     "data": {
      "text/html": [
       "\n",
       "        <iframe\n",
       "            width=\"100%\"\n",
       "            height=\"650\"\n",
       "            src=\"http://127.0.0.1:8050/\"\n",
       "            frameborder=\"0\"\n",
       "            allowfullscreen\n",
       "            \n",
       "        ></iframe>\n",
       "        "
      ],
      "text/plain": [
       "<IPython.lib.display.IFrame at 0x1eb82a975e0>"
      ]
     },
     "metadata": {},
     "output_type": "display_data"
    }
   ],
   "source": [
    "import dash\n",
    "from dash import dcc, html\n",
    "from dash.dependencies import Input, Output, State\n",
    "import base64\n",
    "\n",
    "app = dash.Dash(__name__)\n",
    "\n",
    "app.layout = html.Div([\n",
    "    dcc.Upload(\n",
    "        id='upload-video',\n",
    "        children=html.Div([\n",
    "            'Drag and Drop or ',\n",
    "            html.A('Select a Video')\n",
    "        ]),\n",
    "        multiple=False,\n",
    "        style={\n",
    "            'width': '50%',\n",
    "            'height': '30px',\n",
    "            'lineHeight': '30px',\n",
    "            'borderWidth': '1px',\n",
    "            'borderStyle': 'dashed',\n",
    "            'borderRadius': '5px',\n",
    "            'textAlign': 'center',\n",
    "            'margin': '10px',\n",
    "            'margin-left': 'auto',\n",
    "            'margin-right': 'auto'\n",
    "        }\n",
    "    ),\n",
    "    html.Video(\n",
    "        id='video-player',\n",
    "        controls=False,\n",
    "        style={'width': '50%'}\n",
    "    )\n",
    "])\n",
    "\n",
    "@app.callback(\n",
    "    Output('video-player', 'src'),\n",
    "    Output('video-player', 'controls'),\n",
    "    Input('upload-video', 'contents'),\n",
    "    prevent_initial_call=True\n",
    ")\n",
    "def update_video(contents):\n",
    "    if contents is not None:\n",
    "        content_type, content_string = contents.split(',')\n",
    "        decoded = base64.b64decode(content_string)\n",
    "\n",
    "        return f'data:video/mp4;base64,{base64.b64encode(decoded).decode()}', True\n",
    "    else:\n",
    "        raise dash.exceptions.PreventUpdate\n",
    "\n",
    "if __name__ == '__main__':\n",
    "    app.run_server(debug=True)\n"
   ]
  },
  {
   "cell_type": "code",
   "execution_count": 2,
   "metadata": {},
   "outputs": [
    {
     "data": {
      "text/html": [
       "\n",
       "        <iframe\n",
       "            width=\"100%\"\n",
       "            height=\"650\"\n",
       "            src=\"http://127.0.0.1:8050/\"\n",
       "            frameborder=\"0\"\n",
       "            allowfullscreen\n",
       "            \n",
       "        ></iframe>\n",
       "        "
      ],
      "text/plain": [
       "<IPython.lib.display.IFrame at 0x1c9a7ad8760>"
      ]
     },
     "metadata": {},
     "output_type": "display_data"
    }
   ],
   "source": [
    "# 동영상에서 정보 따오려고 해본건데 이상함\n",
    "import dash\n",
    "from dash import dcc, html\n",
    "from dash.dependencies import Input, Output, State\n",
    "import base64\n",
    "\n",
    "app = dash.Dash(__name__)\n",
    "\n",
    "app.layout = html.Div([\n",
    "    dcc.Upload(\n",
    "        id='upload-video',\n",
    "        children=html.Div([\n",
    "            'Drag and Drop or ',\n",
    "            html.A('Select a Video')\n",
    "        ]),\n",
    "        multiple=False,\n",
    "        style={\n",
    "            'width': '50%',\n",
    "            'height': '30px',\n",
    "            'lineHeight': '30px',\n",
    "            'borderWidth': '1px',\n",
    "            'borderStyle': 'dashed',\n",
    "            'borderRadius': '5px',\n",
    "            'textAlign': 'center',\n",
    "            'margin': '10px',\n",
    "            'margin-left': 'auto',\n",
    "            'margin-right': 'auto'\n",
    "        }\n",
    "    ),\n",
    "    html.Video(\n",
    "        id='video-player',\n",
    "        controls=False,\n",
    "        style={'width': '50%'}\n",
    "    ),\n",
    "    html.Div(id='output-info')  # 정보를 표시할 Div\n",
    "])\n",
    "\n",
    "@app.callback(\n",
    "    Output('video-player', 'src'),\n",
    "    Output('video-player', 'controls'),\n",
    "    Output('output-info', 'children'),  # 정보를 표시할 Div에 대한 Output\n",
    "    Input('upload-video', 'contents'),\n",
    "    prevent_initial_call=True\n",
    ")\n",
    "def update_video(contents):\n",
    "    if contents is not None:\n",
    "        content_type, content_string = contents.split(',')\n",
    "        decoded = base64.b64decode(content_string)\n",
    "\n",
    "        # 업로드된 비디오의 내용을 가져와서 정보로 표시\n",
    "        video_info = f'Video content: {decoded[:50]}...'\n",
    "        return f'data:video/mp4;base64,{base64.b64encode(decoded).decode()}', True, video_info\n",
    "    else:\n",
    "        raise dash.exceptions.PreventUpdate\n",
    "\n",
    "if __name__ == '__main__':\n",
    "    app.run_server(debug=True)\n"
   ]
  },
  {
   "cell_type": "code",
   "execution_count": null,
   "metadata": {},
   "outputs": [],
   "source": [
    " "
   ]
  }
 ],
 "metadata": {
  "kernelspec": {
   "display_name": "base",
   "language": "python",
   "name": "python3"
  },
  "language_info": {
   "codemirror_mode": {
    "name": "ipython",
    "version": 3
   },
   "file_extension": ".py",
   "mimetype": "text/x-python",
   "name": "python",
   "nbconvert_exporter": "python",
   "pygments_lexer": "ipython3",
   "version": "3.10.9"
  },
  "orig_nbformat": 4
 },
 "nbformat": 4,
 "nbformat_minor": 2
}
