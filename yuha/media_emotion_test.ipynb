{
 "cells": [
  {
   "cell_type": "code",
   "execution_count": null,
   "metadata": {},
   "outputs": [],
   "source": [
    "# 중학 수학2 영상 저장\n",
    "# 영상 출력 없이 결과값만 저장 / 3초에 1번씩 프레임 처리\n",
    "\n",
    "import os\n",
    "import glob\n",
    "import json\n",
    "import tensorflow as tf\n",
    "import numpy as np\n",
    "import cv2\n",
    "import mediapipe as mp\n",
    "import time\n",
    "from tensorflow.keras.models import Sequential\n",
    "from tensorflow.keras.layers.experimental.preprocessing import Rescaling\n",
    "from tensorflow.keras.layers import Conv2D, MaxPool2D, Dense, Dropout, Flatten\n",
    "from tensorflow.keras.layers import BatchNormalization\n",
    "from tensorflow.keras.losses import categorical_crossentropy\n",
    "from tensorflow.keras.optimizers import Adam\n",
    "\n",
    "# 감정 레이블과 색상 정보 저장\n",
    "emotions = {\n",
    "    0: ['Angry', (0, 0, 255), (255, 255, 255)],\n",
    "    1: ['Disgust', (0, 102, 0), (255, 255, 255)],\n",
    "    2: ['Fear', (255, 255, 153), (0, 51, 51)],\n",
    "    3: ['Happy', (153, 0, 153), (255, 255, 255)],\n",
    "    4: ['Sad', (255, 0, 0), (255, 255, 255)],\n",
    "    5: ['Surprise', (0, 255, 0), (255, 255, 255)],\n",
    "    6: ['Neutral', (160, 160, 160), (255, 255, 255)]\n",
    "}\n",
    "\n",
    "num_classes = len(emotions) # 감정 클래스 수\n",
    "input_shape = (48, 48, 1) # 모델의 입력 이미지 형태\n",
    "weights_1 = 'vggnet.h5' # 감정 분류 모델\n",
    "weights_2 = 'vggnet_up.h5' # 감정 분류 가중치 모델\n",
    "\n",
    "\n",
    "# VGGNet 클래스 정의 - Keras의 Sequential 클래스를 상속하여 신경망의 레이어를 선형으로 쌓는다.\n",
    "class VGGNet(Sequential):\n",
    "    # 클래스 생성자 메서드. 클래스의 인스턴스가 생성될 때 객체 초기화\n",
    "    def __init__(self, input_shape, num_classes, checkpoint_path, lr=1e-3):\n",
    "        # input_shape: 입력 데이터의 형태(이미지 크기)\n",
    "        # num_classes: 분류 작업의 클래스 수\n",
    "        # checkpoint_path: 모델 가중치를 저장하거나 불러올 경로\n",
    "        # lr=1e-3: 학습률, 기본값은 0.001\n",
    "        super().__init__()\n",
    "        self.add(Rescaling(1. / 255, input_shape=input_shape)) # 입력 픽셀 값을 [0, 1] 범위로 재조정\n",
    "        self.add(Conv2D(64, (3, 3), activation='relu', kernel_initializer='he_normal'))\n",
    "        self.add(BatchNormalization())\n",
    "        self.add(Conv2D(64, (3, 3), activation='relu', kernel_initializer='he_normal', padding='same'))\n",
    "        self.add(BatchNormalization())\n",
    "        self.add(MaxPool2D())\n",
    "        self.add(Dropout(0.5)) # 훈련 중 과적합을 방지하기 위해 Dropout 레이어가 추가\n",
    "\n",
    "        self.add(Conv2D(128, (3, 3), activation='relu', kernel_initializer='he_normal', padding='same'))\n",
    "        self.add(BatchNormalization())\n",
    "        self.add(Conv2D(128, (3, 3), activation='relu', kernel_initializer='he_normal', padding='same'))\n",
    "        self.add(BatchNormalization())\n",
    "        self.add(MaxPool2D())\n",
    "        self.add(Dropout(0.4))\n",
    "\n",
    "        self.add(Conv2D(256, (3, 3), activation='relu', kernel_initializer='he_normal', padding='same'))\n",
    "        self.add(BatchNormalization())\n",
    "        self.add(Conv2D(256, (3, 3), activation='relu', kernel_initializer='he_normal', padding='same'))\n",
    "        self.add(BatchNormalization())\n",
    "        self.add(MaxPool2D())\n",
    "        self.add(Dropout(0.5))\n",
    "\n",
    "        self.add(Conv2D(512, (3, 3), activation='relu', kernel_initializer='he_normal', padding='same'))\n",
    "        self.add(BatchNormalization())\n",
    "        self.add(Conv2D(512, (3, 3), activation='relu', kernel_initializer='he_normal', padding='same'))\n",
    "        self.add(BatchNormalization())\n",
    "        self.add(MaxPool2D())\n",
    "        self.add(Dropout(0.4))\n",
    "\n",
    "        self.add(Flatten()) # 3D 출력을 1D로 변환하기 위해 Flatten 레이어를 추가\n",
    "        \n",
    "        # ReLU 활성화 함수를 사용한 두 개의 완전 연결 Dense 레이어가 추가\n",
    "        self.add(Dense(1024, activation='relu'))\n",
    "        self.add(Dropout(0.5))\n",
    "        self.add(Dense(256, activation='relu'))\n",
    "\n",
    "        #소프트맥스 활성화 함수를 사용한 마지막 Dense 레이어를 추가\n",
    "        # 이 레이어는 각 클래스에 대한 출력 확률을 생성\n",
    "        self.add(Dense(num_classes, activation='softmax')) # \n",
    "\n",
    "        # 모델을 Adam 옵티마이저, categorical crossentropy 손실 함수 및 정확도 지표와 함께 컴파일함\n",
    "        self.compile(optimizer=Adam(learning_rate=lr),\n",
    "                     loss=categorical_crossentropy,\n",
    "                     metrics=['accuracy'])\n",
    "\n",
    "        # 나중에 사용하기 위해 제공된 checkpoint_path를 저장\n",
    "        self.checkpoint_path = checkpoint_path\n",
    "\n",
    "# VGGNet 모델의 인스턴스를 생성하고 미리 학습된 가중치를 로드\n",
    "model_1 = VGGNet(input_shape, num_classes, weights_1)\n",
    "model_1.load_weights(model_1.checkpoint_path)\n",
    "\n",
    "model_2 = VGGNet(input_shape, num_classes, weights_2)\n",
    "model_2.load_weights(model_2.checkpoint_path)\n",
    "\n",
    "# 미디어파이프를 사용하여 얼굴 감지를 위한 모듈과 객체 초기화\n",
    "mp_face_detection = mp.solutions.face_detection\n",
    "mp_drawing = mp.solutions.drawing_utils\n",
    "face_detection = mp_face_detection.FaceDetection(min_detection_confidence=0.5)\n",
    "\n",
    "# 이미지 크기를 조정하여 얼굴 감지를 수행하기 전에 전처리\n",
    "# 이미지의 높이를 최대 높이로 제한하고 비율을 유지한 채로 이미지를 크기 조정\n",
    "def detection_preprocessing(image, h_max=360):\n",
    "    h, w, _ = image.shape\n",
    "    if h > h_max:\n",
    "        ratio = h_max / h\n",
    "        w_ = int(w * ratio)\n",
    "        image = cv2.resize(image, (w_, h_max))\n",
    "    return image\n",
    "\n",
    "# 얼굴 이미지를 크기 조정하고 모델 입력에 맞게 전처리\n",
    "# 감정 분류 모델에 입력으로 주어질 이미지들을 사전 처리하기 위한 것으로, 이미지 크기 조정과 텐서 형태로의 변환을 수행\n",
    "def resize_face(face):\n",
    "    x = tf.expand_dims(tf.convert_to_tensor(face), axis=2)\n",
    "    return tf.image.resize(x, (48, 48))\n",
    "def recognition_preprocessing(faces):\n",
    "    x = tf.convert_to_tensor([resize_face(f) for f in faces])\n",
    "    return x\n",
    "\n",
    "# 이미지에서 얼굴을 감지하고 감정을 추론\n",
    "def inference(image):\n",
    "\n",
    "    global emotion_counts # 감정 클래스별로 이미지에서 감지된 얼굴의 수 기록\n",
    "    H, W, _ = image.shape # 입력 이미지의 높이와 너비를 가져온다.\n",
    "\n",
    "    rgb_image = cv2.cvtColor(image, cv2.COLOR_BGR2RGB) # 이미지의 색상 채널을 BGR에서 RGB로 변환\n",
    "    results = face_detection.process(rgb_image)\n",
    "\n",
    "    # 얼굴이 감지된 경우에만 아래 코드 실행\n",
    "    if results.detections:\n",
    "        # 각 얼굴에 대한 감지 결과를 순회\n",
    "        for detection in results.detections:\n",
    "            # 얼굴의 경계 상자 정보를 가져온다.\n",
    "            box = detection.location_data.relative_bounding_box\n",
    "            # 경계 상자의 좌표와 크기 정보를 계산\n",
    "            x = int(box.xmin * W)\n",
    "            y = int(box.ymin * H)\n",
    "            w = int(box.width * W)\n",
    "            h = int(box.height * H)\n",
    "\n",
    "            # 경계 상자의 좌표를 조정하여 이미지에서 얼굴 부분을 잘라낸다.\n",
    "            x1 = max(0, x)\n",
    "            y1 = max(0, y)\n",
    "            x2 = min(x + w, W)\n",
    "            y2 = min(y + h, H)\n",
    "\n",
    "            # 원본 이미지에서 얼굴 부분을 추출\n",
    "            face = image[y1:y2, x1:x2]\n",
    "            face = cv2.cvtColor(face, cv2.COLOR_BGR2GRAY) # 추출된 얼굴 이미지를 흑백 이미지로 변환\n",
    "\n",
    "            face = tf.expand_dims(tf.convert_to_tensor(face), axis=2) # TensorFlow의 텐서 형태로 변환하고, 차원을 추가하여 모델에 입력으로 사용\n",
    "            face = tf.image.resize(face, (48, 48)) # 얼굴 이미지를 감정 분류 모델에 맞는 크기로 조정\n",
    "\n",
    "            \n",
    "            x = recognition_preprocessing(face)\n",
    "            y_1 = model_1.predict(x) # 첫 번째 모델로 감정을 예측\n",
    "            y_2 = model_2.predict(x) # 두 번째 모델로 감정을 예측\n",
    "            l = np.argmax(y_1 + y_2, axis=1) # 두 모델의 예측 결과를 합산하여 가장 확률이 높은 감정 클래스를 선택\n",
    "            emotion_counts[l[0]] += 1\n",
    "\n",
    "\n",
    "# Video 감정분석\n",
    "def save_emotion_results(video_path, emotion_counts):\n",
    "    # 각 동영상에 대한 감정 분석 결과를 저장할 딕셔너리 생성\n",
    "    emotion_results = {\n",
    "        \"emotion_counts\": emotion_counts,\n",
    "        \"emotion_names\": [emotions[label][0] for label in emotion_counts.keys()],\n",
    "        \"emotion_values\": list(emotion_counts.values())\n",
    "    }\n",
    "\n",
    "    # 개별 동영상 결과를 저장\n",
    "    json_file_path = f'emotion_results_{os.path.basename(video_path)}.json'\n",
    "    json_file_path = os.path.join(video_folder_path, json_file_path)\n",
    "\n",
    "    with open(json_file_path, 'w') as json_file:\n",
    "        json.dump(emotion_results, json_file, indent=4)\n",
    "\n",
    "    return emotion_results\n",
    "\n",
    "\n",
    "# 모든 동영상 결과를 저장할 빈 딕셔너리 초기화\n",
    "combined_results = {}\n",
    "\n",
    "# 동영상 파일이 있는 폴더 경로\n",
    "video_folder_path = 'C:/Users/user/Downloads/media'\n",
    "\n",
    "# 폴더 내의 모든 동영상 파일 경로를 얻어옴\n",
    "video_paths = glob.glob(os.path.join(video_folder_path, '*.mp4'))\n",
    "\n",
    "# 각 동영상에 대한 반복문을 시작\n",
    "for video_path in video_paths:\n",
    "    cap = cv2.VideoCapture(video_path) # 동영상 파일을 열고 객체 생성\n",
    "\n",
    "    # 동영상의 총 프레임 수, 프레임 속도, 동영상 길이를 가져오기\n",
    "    total_frames = int(cap.get(cv2.CAP_PROP_FRAME_COUNT))\n",
    "    fps = int(cap.get(cv2.CAP_PROP_FPS))\n",
    "    video_duration = total_frames / fps\n",
    "\n",
    "    # 감정별 카운트 초기화 (각 프레임당 한 번 초기화)\n",
    "    emotion_counts = {emotion_label: 0 for emotion_label in emotions}\n",
    "\n",
    "    # 3초당 한 번씩 프레임을 처리하기 위한 카운터 초기화\n",
    "    idx = 0\n",
    "\n",
    "    start_time = time.time()\n",
    "    \n",
    "    # 동영상의 모든 프레임에 대한 무한 루프 시작\n",
    "    while True:\n",
    "        success, image = cap.read() # 동영상에서 한 프레임을 읽기\n",
    "        if not success:\n",
    "            break\n",
    "        \n",
    "        # 현재 시간과 경과 시간을 측정\n",
    "        current_time = time.time()\n",
    "        elapsed_time = current_time - start_time\n",
    "\n",
    "        # 3초당 1번씩 처리 (간격을 더 짧게 조정하여 자주 감정 분석)\n",
    "        # 현재 시간을 초로 변환\n",
    "        seconds = np.floor(cap.get(cv2.CAP_PROP_POS_MSEC)/ 1000) * 1000 - idx\n",
    "        if seconds % 3 == 0:\n",
    "            idx += 3\n",
    "            # 얼굴을 감지하고 감정을 추론\n",
    "            inference(image)  # 'inference' 함수에서 얼굴을 가져옵니다\n",
    "\n",
    "            # 초기화 및 최종 결과 저장\n",
    "            # 결과 저장하는 시간이 처리하는 시간이랑 똑같다.\n",
    "            # if elapsed_time >= 3.0:\n",
    "            save_emotion_results(video_path, emotion_counts)\n",
    "            start_time = time.time()\n",
    "\n",
    "    cap.release() # 동영상 파일을 닫고 객체 해제\n",
    "\n",
    "    # 통합된 딕셔너리에 결과 저장\n",
    "    combined_results[os.path.basename(video_path)] = emotion_counts\n",
    "\n",
    "# 통합된 결과를 하나의 JSON 파일로 저장\n",
    "combined_json_file_path = os.path.join(video_folder_path, 'combined_emotion_results.json')\n",
    "with open(combined_json_file_path, 'w') as json_file:\n",
    "    json.dump(combined_results, json_file, indent=4)\n",
    "\n",
    "print(f\"통합된 감정 분석 결과가 {combined_json_file_path}에 저장되었습니다.\")"
   ]
  },
  {
   "cell_type": "markdown",
   "metadata": {},
   "source": [
    "---- ㅈㅎㅅ 감정 분석 코드 구현 ----"
   ]
  },
  {
   "cell_type": "code",
   "execution_count": null,
   "metadata": {},
   "outputs": [],
   "source": [
    "import cv2\n",
    "import tensorflow as tf\n",
    "from tensorflow.keras.models import load_model\n",
    "import json\n",
    "import os\n",
    "from collections import OrderedDict\n",
    "# 얼굴 감지기 초기화 (Haar Cascade 사용)\n",
    "face_cascade = cv2.CascadeClassifier(cv2.data.haarcascades + 'haarcascade_frontalface_default.xml')\n",
    "# 감정 분석 모델 로드\n",
    "emotion_model = load_model('./emotion_model.h5')\n",
    "# 감정 레이블\n",
    "emotion_labels = {0: 'Angry', 1: 'Disgust', 2: 'Fear', 3: 'Happy', 4: 'Sad', 5: 'Surprise', 6: 'Neutral'}\n",
    "# 동영상 파일이 있는 폴더 경로\n",
    "folder_path = 'D:\\EBS중학뉴런수학2(상)_손석민'  \n",
    "# 결과를 저장할 JSON 파일 경로\n",
    "output_json_path = 'data_Emotional.json'\n",
    "# 결과를 저장할 OrderedDict 초기화\n",
    "emotion_data = OrderedDict()\n",
    "emotion_data['data'] = []\n",
    "# 폴더 안에 있는 동영상 파일들을 대상으로 처리\n",
    "for file_name in os.listdir(folder_path):\n",
    "    if file_name.endswith('.mp4'):\n",
    "        video_path = os.path.join(folder_path, file_name)\n",
    "        # 동영상 파일 열기\n",
    "        cap = cv2.VideoCapture(video_path)\n",
    "        # 감정별 횟수 카운트 초기화\n",
    "        emotion_counts = {emotion: 0 for emotion in emotion_labels.values()}\n",
    "        # 감정 수행 간격을 확인하기 위한 카운트 초기화\n",
    "        frame_count = 0\n",
    "        while True:\n",
    "            # 동영상에서 프레임 읽기\n",
    "            ret, frame = cap.read()\n",
    "            if not ret:\n",
    "                break\n",
    "            # 그레이스케일로 변환\n",
    "            gray = cv2.cvtColor(frame, cv2.COLOR_BGR2GRAY)\n",
    "            # 얼굴 감지\n",
    "            faces = face_cascade.detectMultiScale(gray, scaleFactor=1.3, minNeighbors=8, minSize=(30, 30))\n",
    "            # 얼굴이 하나 이상 감지되었을 때만 처리\n",
    "            if len(faces) > 0:\n",
    "                # 가장 첫 번째 얼굴에 대해서만 처리\n",
    "                x, y, w, h = faces[0]\n",
    "                face = gray[y:y + h, x:x + w]\n",
    "                face = cv2.resize(face, (48, 48))\n",
    "                face = face / 255.0  # 이미지 정규화\n",
    "                # 5프레임마다 감정 분석 수행\n",
    "                if frame_count % 5 == 0:\n",
    "                    # 모델 입력 형식으로 변환\n",
    "                    face = tf.expand_dims(face, axis=-1)\n",
    "                    face = tf.expand_dims(face, axis=0)\n",
    "                    # 감정 분석 수행\n",
    "                    emotion_prediction = emotion_model.predict(face)\n",
    "                    emotion_label = emotion_labels[tf.argmax(emotion_prediction, axis=1).numpy()[0]]\n",
    "                    # 감정 카운트 증가\n",
    "                    emotion_counts[emotion_label] += 1\n",
    "            frame_count += 1  # 프레임 카운트 증가\n",
    "        # 리소스 해제\n",
    "        cap.release()\n",
    "        # 결과를 OrderedDict에 추가\n",
    "        emotion_data['data'].append({video_path: emotion_counts})\n",
    "# OrderedDict를 JSON 파일로 저장\n",
    "with open(output_json_path, 'w') as f:\n",
    "    json.dump(emotion_data, f, ensure_ascii=False, indent=4)"
   ]
  },
  {
   "cell_type": "code",
   "execution_count": null,
   "metadata": {},
   "outputs": [],
   "source": [
    "# ㅈㅎㅅ 코드 수정\n",
    "\n",
    "import cv2\n",
    "import tensorflow as tf\n",
    "from tensorflow.keras.models import load_model\n",
    "import json\n",
    "import os\n",
    "from collections import OrderedDict\n",
    "# 얼굴 감지기 초기화 (Haar Cascade 사용)\n",
    "face_cascade = cv2.CascadeClassifier(cv2.data.haarcascades + 'haarcascade_frontalface_default.xml')\n",
    "# 감정 분석 모델 로드\n",
    "emotion_model = load_model('../emotion_model.h5')\n",
    "# 감정 레이블\n",
    "emotion_labels = {0: 'Angry', 1: 'Disgust', 2: 'Fear', 3: 'Happy', 4: 'Sad', 5: 'Surprise', 6: 'Neutral'}\n",
    "# 동영상 파일이 있는 폴더 경로\n",
    "folder_path = 'D:\\ebs\\변창현'\n",
    "# folder_path = 'D:\\ebs\\손석민(0-9)'\n",
    "# 결과를 저장할 JSON 파일 경로\n",
    "output_json_path = 'data_Emotional_1.json'\n",
    "# 결과를 저장할 OrderedDict 초기화\n",
    "emotion_data = OrderedDict()\n",
    "emotion_data['data'] = []\n",
    "# 폴더 안에 있는 동영상 파일들을 대상으로 처리\n",
    "for file_name in os.listdir(folder_path):\n",
    "    if file_name.endswith('.mp4'):\n",
    "        video_path = os.path.join(folder_path, file_name)\n",
    "        # 동영상 파일 열기\n",
    "        cap = cv2.VideoCapture(video_path)\n",
    "        # 감정별 횟수 카운트 초기화\n",
    "        emotion_counts = {emotion: 0 for emotion in emotion_labels.values()}\n",
    "        # 감정 수행 간격을 확인하기 위한 카운트 초기화\n",
    "        frame_count = 0\n",
    "        while True:\n",
    "            # 동영상에서 프레임 읽기\n",
    "            ret, frame = cap.read()\n",
    "            if not ret:\n",
    "                break\n",
    "            # 그레이스케일로 변환\n",
    "            gray = cv2.cvtColor(frame, cv2.COLOR_BGR2GRAY)\n",
    "            # 얼굴 감지\n",
    "            faces = face_cascade.detectMultiScale(gray, scaleFactor=1.3, minNeighbors=8, minSize=(30, 30))\n",
    "            # 얼굴이 하나 이상 감지되었을 때만 처리\n",
    "            if len(faces) > 0:\n",
    "                # 가장 첫 번째 얼굴에 대해서만 처리\n",
    "                x, y, w, h = faces[0]\n",
    "                face = gray[y:y + h, x:x + w]\n",
    "                face = cv2.resize(face, (48, 48))\n",
    "                face = face / 255.0  # 이미지 정규화\n",
    "                # 5프레임마다 감정 분석 수행\n",
    "                if frame_count % 5 == 0:\n",
    "                    # 모델 입력 형식으로 변환\n",
    "                    face = tf.expand_dims(face, axis=-1)\n",
    "                    face = tf.expand_dims(face, axis=0)\n",
    "                    # 감정 분석 수행\n",
    "                    emotion_prediction = emotion_model.predict(face)\n",
    "                    emotion_label = emotion_labels[tf.argmax(emotion_prediction, axis=1).numpy()[0]]\n",
    "                    # 감정 카운트 증가\n",
    "                    emotion_counts[emotion_label] += 1\n",
    "            frame_count += 1  # 프레임 카운트 증가\n",
    "        # 리소스 해제\n",
    "        cap.release()\n",
    "        # 결과를 OrderedDict에 추가\n",
    "        emotion_data['data'].append({video_path: emotion_counts})\n",
    "    # OrderedDict를 JSON 파일로 저장\n",
    "    with open(output_json_path, 'w') as f:\n",
    "        json.dump(emotion_data, f, ensure_ascii=False, indent=4)"
   ]
  },
  {
   "cell_type": "markdown",
   "metadata": {},
   "source": [
    "-- dash로 그래프 만드는 코드 --"
   ]
  },
  {
   "cell_type": "code",
   "execution_count": null,
   "metadata": {},
   "outputs": [],
   "source": [
    "import dash\n",
    "from dash import dcc, html\n",
    "from dash.dependencies import Input, Output\n",
    "import boto3\n",
    "from botocore.exceptions import NoCredentialsError\n",
    "from io import BytesIO\n",
    "\n",
    "# AWS S3 관련 설정 - 변경 필요\n",
    "AWS_ACCESS_KEY = 'your_access_key'\n",
    "AWS_SECRET_KEY = 'your_secret_key'\n",
    "S3_BUCKET = 'big-project-team3-emotion'\n",
    "S3_REGION = 'ap-northeast-2'\n",
    "\n",
    "# Dash 애플리케이션 초기화\n",
    "app = dash.Dash(__name__)\n",
    "\n",
    "# 레이아웃 설정\n",
    "app.layout = html.Div([\n",
    "    dcc.Upload(\n",
    "        id='upload-data',\n",
    "        children=html.Div([\n",
    "            '드래그 앤 드롭 또는 ',\n",
    "            html.A('파일 선택')\n",
    "        ]),\n",
    "        multiple=False\n",
    "    ),\n",
    "    html.Div(id='output-data-upload')\n",
    "])\n",
    "\n",
    "# 파일 업로드 콜백 함수\n",
    "@app.callback(Output('output-data-upload', 'children'),\n",
    "              Input('upload-data', 'contents'))\n",
    "def update_output(contents):\n",
    "    if contents is not None:\n",
    "        try:\n",
    "            # AWS S3에 파일 업로드\n",
    "            s3 = boto3.client('s3', aws_access_key_id=AWS_ACCESS_KEY, aws_secret_access_key=AWS_SECRET_KEY, region_name=S3_REGION)\n",
    "            \n",
    "            # BytesIO를 사용하여 contents를 읽어옴\n",
    "            file_content = contents.encode('utf-8')\n",
    "            file_stream = BytesIO(file_content)\n",
    "\n",
    "            # S3에 업로드\n",
    "            s3.upload_fileobj(file_stream, S3_BUCKET, 'uploaded_video.mp4')\n",
    "\n",
    "            return html.Div([\n",
    "                '파일이 성공적으로 업로드되었습니다.',\n",
    "                html.Video(src=f\"https://{S3_BUCKET}.s3.{S3_REGION}.amazonaws.com/uploaded_video.mp4\", controls=True)\n",
    "            ])\n",
    "        except NoCredentialsError:\n",
    "            return 'AWS 자격 증명이 올바르지 않습니다.'\n",
    "        except Exception as e:\n",
    "            return f'에러 발생: {str(e)}'\n",
    "\n",
    "# 애플리케이션 실행\n",
    "if __name__ == '__main__':\n",
    "    app.run_server(debug=True)\n",
    "\n",
    "# 127.0.0.1:8050"
   ]
  },
  {
   "cell_type": "code",
   "execution_count": null,
   "metadata": {},
   "outputs": [],
   "source": []
  },
  {
   "cell_type": "code",
   "execution_count": 39,
   "metadata": {},
   "outputs": [
    {
     "name": "stdout",
     "output_type": "stream",
     "text": [
      "The consolidated results are saved to C:/Users/user/Downloads/감정분석 결과/EBS중학뉴런수학2(상)_손석민_감정분석\\consolidated_results.json\n"
     ]
    }
   ],
   "source": [
    "# 만들어진 json 파일을 하나의 json 파일로 통합하는 코드\n",
    "\n",
    "import os\n",
    "import json\n",
    "import glob\n",
    "\n",
    "emotions = {\n",
    "    0: ['Angry', (0, 0, 255), (255, 255, 255)],\n",
    "    1: ['Disgust', (0, 102, 0), (255, 255, 255)],\n",
    "    2: ['Fear', (255, 255, 153), (0, 51, 51)],\n",
    "    3: ['Happy', (153, 0, 153), (255, 255, 255)],\n",
    "    4: ['Sad', (255, 0, 0), (255, 255, 255)],\n",
    "    5: ['Surprise', (0, 255, 0), (255, 255, 255)],\n",
    "    6: ['Neutral', (160, 160, 160), (255, 255, 255)]\n",
    "}\n",
    "\n",
    "# 통합될 JSON 파일의 경로\n",
    "json_folder_path = 'C:/Users/user/Downloads/감정분석 결과/EBS중학뉴런수학2(상)_손석민_감정분석'\n",
    "\n",
    "# 통합 결과를 저장할 빈 딕셔너리 초기화\n",
    "consolidated_results = {\n",
    "    \"emotion_counts\": {emotion_label: 0 for emotion_label in emotions},\n",
    "    \"emotion_names\": [emotions[label][0] for label in emotions],\n",
    "    \"emotion_values\": []\n",
    "}\n",
    "\n",
    "# JSON 파일 목록 얻기\n",
    "json_files = [f for f in os.listdir(json_folder_path) if f.endswith('.json')]\n",
    "\n",
    "# 각 JSON 파일 읽어와서 통합\n",
    "for json_file in json_files:\n",
    "    with open(os.path.join(json_folder_path, json_file), 'r') as file:\n",
    "        data = json.load(file)\n",
    "        consolidated_results[\"emotion_values\"].append(data[\"emotion_counts\"])\n",
    "\n",
    "        # 감정 카운트 집계\n",
    "        for label, count in data[\"emotion_counts\"].items():\n",
    "            consolidated_results[\"emotion_counts\"][int(label)] += count\n",
    "\n",
    "# 통합된 JSON 파일 저장\n",
    "consolidated_json_path = os.path.join(json_folder_path, 'consolidated_results.json')\n",
    "with open(consolidated_json_path, 'w') as consolidated_file:\n",
    "    json.dump(consolidated_results, consolidated_file, indent=4)\n",
    "\n",
    "print(f'The consolidated results are saved to {consolidated_json_path}')"
   ]
  },
  {
   "cell_type": "code",
   "execution_count": 1,
   "metadata": {},
   "outputs": [
    {
     "data": {
      "application/vnd.plotly.v1+json": {
       "config": {
        "plotlyServerURL": "https://plot.ly"
       },
       "data": [
        {
         "alignmentgroup": "True",
         "hovertemplate": "color=Angry<br>Emotion=%{x}<br>Count=%{y}<extra></extra>",
         "legendgroup": "Angry",
         "marker": {
          "color": "#636efa",
          "pattern": {
           "shape": ""
          }
         },
         "name": "Angry",
         "offsetgroup": "Angry",
         "orientation": "v",
         "showlegend": true,
         "textposition": "auto",
         "type": "bar",
         "x": [
          "Angry"
         ],
         "xaxis": "x",
         "y": [
          38069
         ],
         "yaxis": "y"
        },
        {
         "alignmentgroup": "True",
         "hovertemplate": "color=Disgust<br>Emotion=%{x}<br>Count=%{y}<extra></extra>",
         "legendgroup": "Disgust",
         "marker": {
          "color": "#EF553B",
          "pattern": {
           "shape": ""
          }
         },
         "name": "Disgust",
         "offsetgroup": "Disgust",
         "orientation": "v",
         "showlegend": true,
         "textposition": "auto",
         "type": "bar",
         "x": [
          "Disgust"
         ],
         "xaxis": "x",
         "y": [
          8709
         ],
         "yaxis": "y"
        },
        {
         "alignmentgroup": "True",
         "hovertemplate": "color=Fear<br>Emotion=%{x}<br>Count=%{y}<extra></extra>",
         "legendgroup": "Fear",
         "marker": {
          "color": "#00cc96",
          "pattern": {
           "shape": ""
          }
         },
         "name": "Fear",
         "offsetgroup": "Fear",
         "orientation": "v",
         "showlegend": true,
         "textposition": "auto",
         "type": "bar",
         "x": [
          "Fear"
         ],
         "xaxis": "x",
         "y": [
          66
         ],
         "yaxis": "y"
        },
        {
         "alignmentgroup": "True",
         "hovertemplate": "color=Happy<br>Emotion=%{x}<br>Count=%{y}<extra></extra>",
         "legendgroup": "Happy",
         "marker": {
          "color": "#ab63fa",
          "pattern": {
           "shape": ""
          }
         },
         "name": "Happy",
         "offsetgroup": "Happy",
         "orientation": "v",
         "showlegend": true,
         "textposition": "auto",
         "type": "bar",
         "x": [
          "Happy"
         ],
         "xaxis": "x",
         "y": [
          11573
         ],
         "yaxis": "y"
        },
        {
         "alignmentgroup": "True",
         "hovertemplate": "color=Sad<br>Emotion=%{x}<br>Count=%{y}<extra></extra>",
         "legendgroup": "Sad",
         "marker": {
          "color": "#FFA15A",
          "pattern": {
           "shape": ""
          }
         },
         "name": "Sad",
         "offsetgroup": "Sad",
         "orientation": "v",
         "showlegend": true,
         "textposition": "auto",
         "type": "bar",
         "x": [
          "Sad"
         ],
         "xaxis": "x",
         "y": [
          45297
         ],
         "yaxis": "y"
        },
        {
         "alignmentgroup": "True",
         "hovertemplate": "color=Surprise<br>Emotion=%{x}<br>Count=%{y}<extra></extra>",
         "legendgroup": "Surprise",
         "marker": {
          "color": "#19d3f3",
          "pattern": {
           "shape": ""
          }
         },
         "name": "Surprise",
         "offsetgroup": "Surprise",
         "orientation": "v",
         "showlegend": true,
         "textposition": "auto",
         "type": "bar",
         "x": [
          "Surprise"
         ],
         "xaxis": "x",
         "y": [
          17
         ],
         "yaxis": "y"
        },
        {
         "alignmentgroup": "True",
         "hovertemplate": "color=Neutral<br>Emotion=%{x}<br>Count=%{y}<extra></extra>",
         "legendgroup": "Neutral",
         "marker": {
          "color": "#FF6692",
          "pattern": {
           "shape": ""
          }
         },
         "name": "Neutral",
         "offsetgroup": "Neutral",
         "orientation": "v",
         "showlegend": true,
         "textposition": "auto",
         "type": "bar",
         "x": [
          "Neutral"
         ],
         "xaxis": "x",
         "y": [
          3207
         ],
         "yaxis": "y"
        }
       ],
       "layout": {
        "barmode": "relative",
        "legend": {
         "title": {
          "text": "color"
         },
         "tracegroupgap": 0
        },
        "template": {
         "data": {
          "bar": [
           {
            "error_x": {
             "color": "#2a3f5f"
            },
            "error_y": {
             "color": "#2a3f5f"
            },
            "marker": {
             "line": {
              "color": "#E5ECF6",
              "width": 0.5
             },
             "pattern": {
              "fillmode": "overlay",
              "size": 10,
              "solidity": 0.2
             }
            },
            "type": "bar"
           }
          ],
          "barpolar": [
           {
            "marker": {
             "line": {
              "color": "#E5ECF6",
              "width": 0.5
             },
             "pattern": {
              "fillmode": "overlay",
              "size": 10,
              "solidity": 0.2
             }
            },
            "type": "barpolar"
           }
          ],
          "carpet": [
           {
            "aaxis": {
             "endlinecolor": "#2a3f5f",
             "gridcolor": "white",
             "linecolor": "white",
             "minorgridcolor": "white",
             "startlinecolor": "#2a3f5f"
            },
            "baxis": {
             "endlinecolor": "#2a3f5f",
             "gridcolor": "white",
             "linecolor": "white",
             "minorgridcolor": "white",
             "startlinecolor": "#2a3f5f"
            },
            "type": "carpet"
           }
          ],
          "choropleth": [
           {
            "colorbar": {
             "outlinewidth": 0,
             "ticks": ""
            },
            "type": "choropleth"
           }
          ],
          "contour": [
           {
            "colorbar": {
             "outlinewidth": 0,
             "ticks": ""
            },
            "colorscale": [
             [
              0,
              "#0d0887"
             ],
             [
              0.1111111111111111,
              "#46039f"
             ],
             [
              0.2222222222222222,
              "#7201a8"
             ],
             [
              0.3333333333333333,
              "#9c179e"
             ],
             [
              0.4444444444444444,
              "#bd3786"
             ],
             [
              0.5555555555555556,
              "#d8576b"
             ],
             [
              0.6666666666666666,
              "#ed7953"
             ],
             [
              0.7777777777777778,
              "#fb9f3a"
             ],
             [
              0.8888888888888888,
              "#fdca26"
             ],
             [
              1,
              "#f0f921"
             ]
            ],
            "type": "contour"
           }
          ],
          "contourcarpet": [
           {
            "colorbar": {
             "outlinewidth": 0,
             "ticks": ""
            },
            "type": "contourcarpet"
           }
          ],
          "heatmap": [
           {
            "colorbar": {
             "outlinewidth": 0,
             "ticks": ""
            },
            "colorscale": [
             [
              0,
              "#0d0887"
             ],
             [
              0.1111111111111111,
              "#46039f"
             ],
             [
              0.2222222222222222,
              "#7201a8"
             ],
             [
              0.3333333333333333,
              "#9c179e"
             ],
             [
              0.4444444444444444,
              "#bd3786"
             ],
             [
              0.5555555555555556,
              "#d8576b"
             ],
             [
              0.6666666666666666,
              "#ed7953"
             ],
             [
              0.7777777777777778,
              "#fb9f3a"
             ],
             [
              0.8888888888888888,
              "#fdca26"
             ],
             [
              1,
              "#f0f921"
             ]
            ],
            "type": "heatmap"
           }
          ],
          "heatmapgl": [
           {
            "colorbar": {
             "outlinewidth": 0,
             "ticks": ""
            },
            "colorscale": [
             [
              0,
              "#0d0887"
             ],
             [
              0.1111111111111111,
              "#46039f"
             ],
             [
              0.2222222222222222,
              "#7201a8"
             ],
             [
              0.3333333333333333,
              "#9c179e"
             ],
             [
              0.4444444444444444,
              "#bd3786"
             ],
             [
              0.5555555555555556,
              "#d8576b"
             ],
             [
              0.6666666666666666,
              "#ed7953"
             ],
             [
              0.7777777777777778,
              "#fb9f3a"
             ],
             [
              0.8888888888888888,
              "#fdca26"
             ],
             [
              1,
              "#f0f921"
             ]
            ],
            "type": "heatmapgl"
           }
          ],
          "histogram": [
           {
            "marker": {
             "pattern": {
              "fillmode": "overlay",
              "size": 10,
              "solidity": 0.2
             }
            },
            "type": "histogram"
           }
          ],
          "histogram2d": [
           {
            "colorbar": {
             "outlinewidth": 0,
             "ticks": ""
            },
            "colorscale": [
             [
              0,
              "#0d0887"
             ],
             [
              0.1111111111111111,
              "#46039f"
             ],
             [
              0.2222222222222222,
              "#7201a8"
             ],
             [
              0.3333333333333333,
              "#9c179e"
             ],
             [
              0.4444444444444444,
              "#bd3786"
             ],
             [
              0.5555555555555556,
              "#d8576b"
             ],
             [
              0.6666666666666666,
              "#ed7953"
             ],
             [
              0.7777777777777778,
              "#fb9f3a"
             ],
             [
              0.8888888888888888,
              "#fdca26"
             ],
             [
              1,
              "#f0f921"
             ]
            ],
            "type": "histogram2d"
           }
          ],
          "histogram2dcontour": [
           {
            "colorbar": {
             "outlinewidth": 0,
             "ticks": ""
            },
            "colorscale": [
             [
              0,
              "#0d0887"
             ],
             [
              0.1111111111111111,
              "#46039f"
             ],
             [
              0.2222222222222222,
              "#7201a8"
             ],
             [
              0.3333333333333333,
              "#9c179e"
             ],
             [
              0.4444444444444444,
              "#bd3786"
             ],
             [
              0.5555555555555556,
              "#d8576b"
             ],
             [
              0.6666666666666666,
              "#ed7953"
             ],
             [
              0.7777777777777778,
              "#fb9f3a"
             ],
             [
              0.8888888888888888,
              "#fdca26"
             ],
             [
              1,
              "#f0f921"
             ]
            ],
            "type": "histogram2dcontour"
           }
          ],
          "mesh3d": [
           {
            "colorbar": {
             "outlinewidth": 0,
             "ticks": ""
            },
            "type": "mesh3d"
           }
          ],
          "parcoords": [
           {
            "line": {
             "colorbar": {
              "outlinewidth": 0,
              "ticks": ""
             }
            },
            "type": "parcoords"
           }
          ],
          "pie": [
           {
            "automargin": true,
            "type": "pie"
           }
          ],
          "scatter": [
           {
            "fillpattern": {
             "fillmode": "overlay",
             "size": 10,
             "solidity": 0.2
            },
            "type": "scatter"
           }
          ],
          "scatter3d": [
           {
            "line": {
             "colorbar": {
              "outlinewidth": 0,
              "ticks": ""
             }
            },
            "marker": {
             "colorbar": {
              "outlinewidth": 0,
              "ticks": ""
             }
            },
            "type": "scatter3d"
           }
          ],
          "scattercarpet": [
           {
            "marker": {
             "colorbar": {
              "outlinewidth": 0,
              "ticks": ""
             }
            },
            "type": "scattercarpet"
           }
          ],
          "scattergeo": [
           {
            "marker": {
             "colorbar": {
              "outlinewidth": 0,
              "ticks": ""
             }
            },
            "type": "scattergeo"
           }
          ],
          "scattergl": [
           {
            "marker": {
             "colorbar": {
              "outlinewidth": 0,
              "ticks": ""
             }
            },
            "type": "scattergl"
           }
          ],
          "scattermapbox": [
           {
            "marker": {
             "colorbar": {
              "outlinewidth": 0,
              "ticks": ""
             }
            },
            "type": "scattermapbox"
           }
          ],
          "scatterpolar": [
           {
            "marker": {
             "colorbar": {
              "outlinewidth": 0,
              "ticks": ""
             }
            },
            "type": "scatterpolar"
           }
          ],
          "scatterpolargl": [
           {
            "marker": {
             "colorbar": {
              "outlinewidth": 0,
              "ticks": ""
             }
            },
            "type": "scatterpolargl"
           }
          ],
          "scatterternary": [
           {
            "marker": {
             "colorbar": {
              "outlinewidth": 0,
              "ticks": ""
             }
            },
            "type": "scatterternary"
           }
          ],
          "surface": [
           {
            "colorbar": {
             "outlinewidth": 0,
             "ticks": ""
            },
            "colorscale": [
             [
              0,
              "#0d0887"
             ],
             [
              0.1111111111111111,
              "#46039f"
             ],
             [
              0.2222222222222222,
              "#7201a8"
             ],
             [
              0.3333333333333333,
              "#9c179e"
             ],
             [
              0.4444444444444444,
              "#bd3786"
             ],
             [
              0.5555555555555556,
              "#d8576b"
             ],
             [
              0.6666666666666666,
              "#ed7953"
             ],
             [
              0.7777777777777778,
              "#fb9f3a"
             ],
             [
              0.8888888888888888,
              "#fdca26"
             ],
             [
              1,
              "#f0f921"
             ]
            ],
            "type": "surface"
           }
          ],
          "table": [
           {
            "cells": {
             "fill": {
              "color": "#EBF0F8"
             },
             "line": {
              "color": "white"
             }
            },
            "header": {
             "fill": {
              "color": "#C8D4E3"
             },
             "line": {
              "color": "white"
             }
            },
            "type": "table"
           }
          ]
         },
         "layout": {
          "annotationdefaults": {
           "arrowcolor": "#2a3f5f",
           "arrowhead": 0,
           "arrowwidth": 1
          },
          "autotypenumbers": "strict",
          "coloraxis": {
           "colorbar": {
            "outlinewidth": 0,
            "ticks": ""
           }
          },
          "colorscale": {
           "diverging": [
            [
             0,
             "#8e0152"
            ],
            [
             0.1,
             "#c51b7d"
            ],
            [
             0.2,
             "#de77ae"
            ],
            [
             0.3,
             "#f1b6da"
            ],
            [
             0.4,
             "#fde0ef"
            ],
            [
             0.5,
             "#f7f7f7"
            ],
            [
             0.6,
             "#e6f5d0"
            ],
            [
             0.7,
             "#b8e186"
            ],
            [
             0.8,
             "#7fbc41"
            ],
            [
             0.9,
             "#4d9221"
            ],
            [
             1,
             "#276419"
            ]
           ],
           "sequential": [
            [
             0,
             "#0d0887"
            ],
            [
             0.1111111111111111,
             "#46039f"
            ],
            [
             0.2222222222222222,
             "#7201a8"
            ],
            [
             0.3333333333333333,
             "#9c179e"
            ],
            [
             0.4444444444444444,
             "#bd3786"
            ],
            [
             0.5555555555555556,
             "#d8576b"
            ],
            [
             0.6666666666666666,
             "#ed7953"
            ],
            [
             0.7777777777777778,
             "#fb9f3a"
            ],
            [
             0.8888888888888888,
             "#fdca26"
            ],
            [
             1,
             "#f0f921"
            ]
           ],
           "sequentialminus": [
            [
             0,
             "#0d0887"
            ],
            [
             0.1111111111111111,
             "#46039f"
            ],
            [
             0.2222222222222222,
             "#7201a8"
            ],
            [
             0.3333333333333333,
             "#9c179e"
            ],
            [
             0.4444444444444444,
             "#bd3786"
            ],
            [
             0.5555555555555556,
             "#d8576b"
            ],
            [
             0.6666666666666666,
             "#ed7953"
            ],
            [
             0.7777777777777778,
             "#fb9f3a"
            ],
            [
             0.8888888888888888,
             "#fdca26"
            ],
            [
             1,
             "#f0f921"
            ]
           ]
          },
          "colorway": [
           "#636efa",
           "#EF553B",
           "#00cc96",
           "#ab63fa",
           "#FFA15A",
           "#19d3f3",
           "#FF6692",
           "#B6E880",
           "#FF97FF",
           "#FECB52"
          ],
          "font": {
           "color": "#2a3f5f"
          },
          "geo": {
           "bgcolor": "white",
           "lakecolor": "white",
           "landcolor": "#E5ECF6",
           "showlakes": true,
           "showland": true,
           "subunitcolor": "white"
          },
          "hoverlabel": {
           "align": "left"
          },
          "hovermode": "closest",
          "mapbox": {
           "style": "light"
          },
          "paper_bgcolor": "white",
          "plot_bgcolor": "#E5ECF6",
          "polar": {
           "angularaxis": {
            "gridcolor": "white",
            "linecolor": "white",
            "ticks": ""
           },
           "bgcolor": "#E5ECF6",
           "radialaxis": {
            "gridcolor": "white",
            "linecolor": "white",
            "ticks": ""
           }
          },
          "scene": {
           "xaxis": {
            "backgroundcolor": "#E5ECF6",
            "gridcolor": "white",
            "gridwidth": 2,
            "linecolor": "white",
            "showbackground": true,
            "ticks": "",
            "zerolinecolor": "white"
           },
           "yaxis": {
            "backgroundcolor": "#E5ECF6",
            "gridcolor": "white",
            "gridwidth": 2,
            "linecolor": "white",
            "showbackground": true,
            "ticks": "",
            "zerolinecolor": "white"
           },
           "zaxis": {
            "backgroundcolor": "#E5ECF6",
            "gridcolor": "white",
            "gridwidth": 2,
            "linecolor": "white",
            "showbackground": true,
            "ticks": "",
            "zerolinecolor": "white"
           }
          },
          "shapedefaults": {
           "line": {
            "color": "#2a3f5f"
           }
          },
          "ternary": {
           "aaxis": {
            "gridcolor": "white",
            "linecolor": "white",
            "ticks": ""
           },
           "baxis": {
            "gridcolor": "white",
            "linecolor": "white",
            "ticks": ""
           },
           "bgcolor": "#E5ECF6",
           "caxis": {
            "gridcolor": "white",
            "linecolor": "white",
            "ticks": ""
           }
          },
          "title": {
           "x": 0.05
          },
          "xaxis": {
           "automargin": true,
           "gridcolor": "white",
           "linecolor": "white",
           "ticks": "",
           "title": {
            "standoff": 15
           },
           "zerolinecolor": "white",
           "zerolinewidth": 2
          },
          "yaxis": {
           "automargin": true,
           "gridcolor": "white",
           "linecolor": "white",
           "ticks": "",
           "title": {
            "standoff": 15
           },
           "zerolinecolor": "white",
           "zerolinewidth": 2
          }
         }
        },
        "title": {
         "text": "Emotion Analysis Results - consolidated_results_변창현"
        },
        "xaxis": {
         "anchor": "y",
         "domain": [
          0,
          1
         ],
         "title": {
          "text": "Emotion"
         }
        },
        "yaxis": {
         "anchor": "x",
         "domain": [
          0,
          1
         ],
         "title": {
          "text": "Count"
         }
        }
       }
      }
     },
     "metadata": {},
     "output_type": "display_data"
    },
    {
     "data": {
      "application/vnd.plotly.v1+json": {
       "config": {
        "plotlyServerURL": "https://plot.ly"
       },
       "data": [
        {
         "alignmentgroup": "True",
         "hovertemplate": "color=Angry<br>Emotion=%{x}<br>Count=%{y}<extra></extra>",
         "legendgroup": "Angry",
         "marker": {
          "color": "#636efa",
          "pattern": {
           "shape": ""
          }
         },
         "name": "Angry",
         "offsetgroup": "Angry",
         "orientation": "v",
         "showlegend": true,
         "textposition": "auto",
         "type": "bar",
         "x": [
          "Angry"
         ],
         "xaxis": "x",
         "y": [
          8075
         ],
         "yaxis": "y"
        },
        {
         "alignmentgroup": "True",
         "hovertemplate": "color=Disgust<br>Emotion=%{x}<br>Count=%{y}<extra></extra>",
         "legendgroup": "Disgust",
         "marker": {
          "color": "#EF553B",
          "pattern": {
           "shape": ""
          }
         },
         "name": "Disgust",
         "offsetgroup": "Disgust",
         "orientation": "v",
         "showlegend": true,
         "textposition": "auto",
         "type": "bar",
         "x": [
          "Disgust"
         ],
         "xaxis": "x",
         "y": [
          23163
         ],
         "yaxis": "y"
        },
        {
         "alignmentgroup": "True",
         "hovertemplate": "color=Fear<br>Emotion=%{x}<br>Count=%{y}<extra></extra>",
         "legendgroup": "Fear",
         "marker": {
          "color": "#00cc96",
          "pattern": {
           "shape": ""
          }
         },
         "name": "Fear",
         "offsetgroup": "Fear",
         "orientation": "v",
         "showlegend": true,
         "textposition": "auto",
         "type": "bar",
         "x": [
          "Fear"
         ],
         "xaxis": "x",
         "y": [
          569
         ],
         "yaxis": "y"
        },
        {
         "alignmentgroup": "True",
         "hovertemplate": "color=Happy<br>Emotion=%{x}<br>Count=%{y}<extra></extra>",
         "legendgroup": "Happy",
         "marker": {
          "color": "#ab63fa",
          "pattern": {
           "shape": ""
          }
         },
         "name": "Happy",
         "offsetgroup": "Happy",
         "orientation": "v",
         "showlegend": true,
         "textposition": "auto",
         "type": "bar",
         "x": [
          "Happy"
         ],
         "xaxis": "x",
         "y": [
          14189
         ],
         "yaxis": "y"
        },
        {
         "alignmentgroup": "True",
         "hovertemplate": "color=Sad<br>Emotion=%{x}<br>Count=%{y}<extra></extra>",
         "legendgroup": "Sad",
         "marker": {
          "color": "#FFA15A",
          "pattern": {
           "shape": ""
          }
         },
         "name": "Sad",
         "offsetgroup": "Sad",
         "orientation": "v",
         "showlegend": true,
         "textposition": "auto",
         "type": "bar",
         "x": [
          "Sad"
         ],
         "xaxis": "x",
         "y": [
          36290
         ],
         "yaxis": "y"
        },
        {
         "alignmentgroup": "True",
         "hovertemplate": "color=Surprise<br>Emotion=%{x}<br>Count=%{y}<extra></extra>",
         "legendgroup": "Surprise",
         "marker": {
          "color": "#19d3f3",
          "pattern": {
           "shape": ""
          }
         },
         "name": "Surprise",
         "offsetgroup": "Surprise",
         "orientation": "v",
         "showlegend": true,
         "textposition": "auto",
         "type": "bar",
         "x": [
          "Surprise"
         ],
         "xaxis": "x",
         "y": [
          184
         ],
         "yaxis": "y"
        },
        {
         "alignmentgroup": "True",
         "hovertemplate": "color=Neutral<br>Emotion=%{x}<br>Count=%{y}<extra></extra>",
         "legendgroup": "Neutral",
         "marker": {
          "color": "#FF6692",
          "pattern": {
           "shape": ""
          }
         },
         "name": "Neutral",
         "offsetgroup": "Neutral",
         "orientation": "v",
         "showlegend": true,
         "textposition": "auto",
         "type": "bar",
         "x": [
          "Neutral"
         ],
         "xaxis": "x",
         "y": [
          6688
         ],
         "yaxis": "y"
        }
       ],
       "layout": {
        "barmode": "relative",
        "legend": {
         "title": {
          "text": "color"
         },
         "tracegroupgap": 0
        },
        "template": {
         "data": {
          "bar": [
           {
            "error_x": {
             "color": "#2a3f5f"
            },
            "error_y": {
             "color": "#2a3f5f"
            },
            "marker": {
             "line": {
              "color": "#E5ECF6",
              "width": 0.5
             },
             "pattern": {
              "fillmode": "overlay",
              "size": 10,
              "solidity": 0.2
             }
            },
            "type": "bar"
           }
          ],
          "barpolar": [
           {
            "marker": {
             "line": {
              "color": "#E5ECF6",
              "width": 0.5
             },
             "pattern": {
              "fillmode": "overlay",
              "size": 10,
              "solidity": 0.2
             }
            },
            "type": "barpolar"
           }
          ],
          "carpet": [
           {
            "aaxis": {
             "endlinecolor": "#2a3f5f",
             "gridcolor": "white",
             "linecolor": "white",
             "minorgridcolor": "white",
             "startlinecolor": "#2a3f5f"
            },
            "baxis": {
             "endlinecolor": "#2a3f5f",
             "gridcolor": "white",
             "linecolor": "white",
             "minorgridcolor": "white",
             "startlinecolor": "#2a3f5f"
            },
            "type": "carpet"
           }
          ],
          "choropleth": [
           {
            "colorbar": {
             "outlinewidth": 0,
             "ticks": ""
            },
            "type": "choropleth"
           }
          ],
          "contour": [
           {
            "colorbar": {
             "outlinewidth": 0,
             "ticks": ""
            },
            "colorscale": [
             [
              0,
              "#0d0887"
             ],
             [
              0.1111111111111111,
              "#46039f"
             ],
             [
              0.2222222222222222,
              "#7201a8"
             ],
             [
              0.3333333333333333,
              "#9c179e"
             ],
             [
              0.4444444444444444,
              "#bd3786"
             ],
             [
              0.5555555555555556,
              "#d8576b"
             ],
             [
              0.6666666666666666,
              "#ed7953"
             ],
             [
              0.7777777777777778,
              "#fb9f3a"
             ],
             [
              0.8888888888888888,
              "#fdca26"
             ],
             [
              1,
              "#f0f921"
             ]
            ],
            "type": "contour"
           }
          ],
          "contourcarpet": [
           {
            "colorbar": {
             "outlinewidth": 0,
             "ticks": ""
            },
            "type": "contourcarpet"
           }
          ],
          "heatmap": [
           {
            "colorbar": {
             "outlinewidth": 0,
             "ticks": ""
            },
            "colorscale": [
             [
              0,
              "#0d0887"
             ],
             [
              0.1111111111111111,
              "#46039f"
             ],
             [
              0.2222222222222222,
              "#7201a8"
             ],
             [
              0.3333333333333333,
              "#9c179e"
             ],
             [
              0.4444444444444444,
              "#bd3786"
             ],
             [
              0.5555555555555556,
              "#d8576b"
             ],
             [
              0.6666666666666666,
              "#ed7953"
             ],
             [
              0.7777777777777778,
              "#fb9f3a"
             ],
             [
              0.8888888888888888,
              "#fdca26"
             ],
             [
              1,
              "#f0f921"
             ]
            ],
            "type": "heatmap"
           }
          ],
          "heatmapgl": [
           {
            "colorbar": {
             "outlinewidth": 0,
             "ticks": ""
            },
            "colorscale": [
             [
              0,
              "#0d0887"
             ],
             [
              0.1111111111111111,
              "#46039f"
             ],
             [
              0.2222222222222222,
              "#7201a8"
             ],
             [
              0.3333333333333333,
              "#9c179e"
             ],
             [
              0.4444444444444444,
              "#bd3786"
             ],
             [
              0.5555555555555556,
              "#d8576b"
             ],
             [
              0.6666666666666666,
              "#ed7953"
             ],
             [
              0.7777777777777778,
              "#fb9f3a"
             ],
             [
              0.8888888888888888,
              "#fdca26"
             ],
             [
              1,
              "#f0f921"
             ]
            ],
            "type": "heatmapgl"
           }
          ],
          "histogram": [
           {
            "marker": {
             "pattern": {
              "fillmode": "overlay",
              "size": 10,
              "solidity": 0.2
             }
            },
            "type": "histogram"
           }
          ],
          "histogram2d": [
           {
            "colorbar": {
             "outlinewidth": 0,
             "ticks": ""
            },
            "colorscale": [
             [
              0,
              "#0d0887"
             ],
             [
              0.1111111111111111,
              "#46039f"
             ],
             [
              0.2222222222222222,
              "#7201a8"
             ],
             [
              0.3333333333333333,
              "#9c179e"
             ],
             [
              0.4444444444444444,
              "#bd3786"
             ],
             [
              0.5555555555555556,
              "#d8576b"
             ],
             [
              0.6666666666666666,
              "#ed7953"
             ],
             [
              0.7777777777777778,
              "#fb9f3a"
             ],
             [
              0.8888888888888888,
              "#fdca26"
             ],
             [
              1,
              "#f0f921"
             ]
            ],
            "type": "histogram2d"
           }
          ],
          "histogram2dcontour": [
           {
            "colorbar": {
             "outlinewidth": 0,
             "ticks": ""
            },
            "colorscale": [
             [
              0,
              "#0d0887"
             ],
             [
              0.1111111111111111,
              "#46039f"
             ],
             [
              0.2222222222222222,
              "#7201a8"
             ],
             [
              0.3333333333333333,
              "#9c179e"
             ],
             [
              0.4444444444444444,
              "#bd3786"
             ],
             [
              0.5555555555555556,
              "#d8576b"
             ],
             [
              0.6666666666666666,
              "#ed7953"
             ],
             [
              0.7777777777777778,
              "#fb9f3a"
             ],
             [
              0.8888888888888888,
              "#fdca26"
             ],
             [
              1,
              "#f0f921"
             ]
            ],
            "type": "histogram2dcontour"
           }
          ],
          "mesh3d": [
           {
            "colorbar": {
             "outlinewidth": 0,
             "ticks": ""
            },
            "type": "mesh3d"
           }
          ],
          "parcoords": [
           {
            "line": {
             "colorbar": {
              "outlinewidth": 0,
              "ticks": ""
             }
            },
            "type": "parcoords"
           }
          ],
          "pie": [
           {
            "automargin": true,
            "type": "pie"
           }
          ],
          "scatter": [
           {
            "fillpattern": {
             "fillmode": "overlay",
             "size": 10,
             "solidity": 0.2
            },
            "type": "scatter"
           }
          ],
          "scatter3d": [
           {
            "line": {
             "colorbar": {
              "outlinewidth": 0,
              "ticks": ""
             }
            },
            "marker": {
             "colorbar": {
              "outlinewidth": 0,
              "ticks": ""
             }
            },
            "type": "scatter3d"
           }
          ],
          "scattercarpet": [
           {
            "marker": {
             "colorbar": {
              "outlinewidth": 0,
              "ticks": ""
             }
            },
            "type": "scattercarpet"
           }
          ],
          "scattergeo": [
           {
            "marker": {
             "colorbar": {
              "outlinewidth": 0,
              "ticks": ""
             }
            },
            "type": "scattergeo"
           }
          ],
          "scattergl": [
           {
            "marker": {
             "colorbar": {
              "outlinewidth": 0,
              "ticks": ""
             }
            },
            "type": "scattergl"
           }
          ],
          "scattermapbox": [
           {
            "marker": {
             "colorbar": {
              "outlinewidth": 0,
              "ticks": ""
             }
            },
            "type": "scattermapbox"
           }
          ],
          "scatterpolar": [
           {
            "marker": {
             "colorbar": {
              "outlinewidth": 0,
              "ticks": ""
             }
            },
            "type": "scatterpolar"
           }
          ],
          "scatterpolargl": [
           {
            "marker": {
             "colorbar": {
              "outlinewidth": 0,
              "ticks": ""
             }
            },
            "type": "scatterpolargl"
           }
          ],
          "scatterternary": [
           {
            "marker": {
             "colorbar": {
              "outlinewidth": 0,
              "ticks": ""
             }
            },
            "type": "scatterternary"
           }
          ],
          "surface": [
           {
            "colorbar": {
             "outlinewidth": 0,
             "ticks": ""
            },
            "colorscale": [
             [
              0,
              "#0d0887"
             ],
             [
              0.1111111111111111,
              "#46039f"
             ],
             [
              0.2222222222222222,
              "#7201a8"
             ],
             [
              0.3333333333333333,
              "#9c179e"
             ],
             [
              0.4444444444444444,
              "#bd3786"
             ],
             [
              0.5555555555555556,
              "#d8576b"
             ],
             [
              0.6666666666666666,
              "#ed7953"
             ],
             [
              0.7777777777777778,
              "#fb9f3a"
             ],
             [
              0.8888888888888888,
              "#fdca26"
             ],
             [
              1,
              "#f0f921"
             ]
            ],
            "type": "surface"
           }
          ],
          "table": [
           {
            "cells": {
             "fill": {
              "color": "#EBF0F8"
             },
             "line": {
              "color": "white"
             }
            },
            "header": {
             "fill": {
              "color": "#C8D4E3"
             },
             "line": {
              "color": "white"
             }
            },
            "type": "table"
           }
          ]
         },
         "layout": {
          "annotationdefaults": {
           "arrowcolor": "#2a3f5f",
           "arrowhead": 0,
           "arrowwidth": 1
          },
          "autotypenumbers": "strict",
          "coloraxis": {
           "colorbar": {
            "outlinewidth": 0,
            "ticks": ""
           }
          },
          "colorscale": {
           "diverging": [
            [
             0,
             "#8e0152"
            ],
            [
             0.1,
             "#c51b7d"
            ],
            [
             0.2,
             "#de77ae"
            ],
            [
             0.3,
             "#f1b6da"
            ],
            [
             0.4,
             "#fde0ef"
            ],
            [
             0.5,
             "#f7f7f7"
            ],
            [
             0.6,
             "#e6f5d0"
            ],
            [
             0.7,
             "#b8e186"
            ],
            [
             0.8,
             "#7fbc41"
            ],
            [
             0.9,
             "#4d9221"
            ],
            [
             1,
             "#276419"
            ]
           ],
           "sequential": [
            [
             0,
             "#0d0887"
            ],
            [
             0.1111111111111111,
             "#46039f"
            ],
            [
             0.2222222222222222,
             "#7201a8"
            ],
            [
             0.3333333333333333,
             "#9c179e"
            ],
            [
             0.4444444444444444,
             "#bd3786"
            ],
            [
             0.5555555555555556,
             "#d8576b"
            ],
            [
             0.6666666666666666,
             "#ed7953"
            ],
            [
             0.7777777777777778,
             "#fb9f3a"
            ],
            [
             0.8888888888888888,
             "#fdca26"
            ],
            [
             1,
             "#f0f921"
            ]
           ],
           "sequentialminus": [
            [
             0,
             "#0d0887"
            ],
            [
             0.1111111111111111,
             "#46039f"
            ],
            [
             0.2222222222222222,
             "#7201a8"
            ],
            [
             0.3333333333333333,
             "#9c179e"
            ],
            [
             0.4444444444444444,
             "#bd3786"
            ],
            [
             0.5555555555555556,
             "#d8576b"
            ],
            [
             0.6666666666666666,
             "#ed7953"
            ],
            [
             0.7777777777777778,
             "#fb9f3a"
            ],
            [
             0.8888888888888888,
             "#fdca26"
            ],
            [
             1,
             "#f0f921"
            ]
           ]
          },
          "colorway": [
           "#636efa",
           "#EF553B",
           "#00cc96",
           "#ab63fa",
           "#FFA15A",
           "#19d3f3",
           "#FF6692",
           "#B6E880",
           "#FF97FF",
           "#FECB52"
          ],
          "font": {
           "color": "#2a3f5f"
          },
          "geo": {
           "bgcolor": "white",
           "lakecolor": "white",
           "landcolor": "#E5ECF6",
           "showlakes": true,
           "showland": true,
           "subunitcolor": "white"
          },
          "hoverlabel": {
           "align": "left"
          },
          "hovermode": "closest",
          "mapbox": {
           "style": "light"
          },
          "paper_bgcolor": "white",
          "plot_bgcolor": "#E5ECF6",
          "polar": {
           "angularaxis": {
            "gridcolor": "white",
            "linecolor": "white",
            "ticks": ""
           },
           "bgcolor": "#E5ECF6",
           "radialaxis": {
            "gridcolor": "white",
            "linecolor": "white",
            "ticks": ""
           }
          },
          "scene": {
           "xaxis": {
            "backgroundcolor": "#E5ECF6",
            "gridcolor": "white",
            "gridwidth": 2,
            "linecolor": "white",
            "showbackground": true,
            "ticks": "",
            "zerolinecolor": "white"
           },
           "yaxis": {
            "backgroundcolor": "#E5ECF6",
            "gridcolor": "white",
            "gridwidth": 2,
            "linecolor": "white",
            "showbackground": true,
            "ticks": "",
            "zerolinecolor": "white"
           },
           "zaxis": {
            "backgroundcolor": "#E5ECF6",
            "gridcolor": "white",
            "gridwidth": 2,
            "linecolor": "white",
            "showbackground": true,
            "ticks": "",
            "zerolinecolor": "white"
           }
          },
          "shapedefaults": {
           "line": {
            "color": "#2a3f5f"
           }
          },
          "ternary": {
           "aaxis": {
            "gridcolor": "white",
            "linecolor": "white",
            "ticks": ""
           },
           "baxis": {
            "gridcolor": "white",
            "linecolor": "white",
            "ticks": ""
           },
           "bgcolor": "#E5ECF6",
           "caxis": {
            "gridcolor": "white",
            "linecolor": "white",
            "ticks": ""
           }
          },
          "title": {
           "x": 0.05
          },
          "xaxis": {
           "automargin": true,
           "gridcolor": "white",
           "linecolor": "white",
           "ticks": "",
           "title": {
            "standoff": 15
           },
           "zerolinecolor": "white",
           "zerolinewidth": 2
          },
          "yaxis": {
           "automargin": true,
           "gridcolor": "white",
           "linecolor": "white",
           "ticks": "",
           "title": {
            "standoff": 15
           },
           "zerolinecolor": "white",
           "zerolinewidth": 2
          }
         }
        },
        "title": {
         "text": "Emotion Analysis Results - consolidated_results_서채은"
        },
        "xaxis": {
         "anchor": "y",
         "domain": [
          0,
          1
         ],
         "title": {
          "text": "Emotion"
         }
        },
        "yaxis": {
         "anchor": "x",
         "domain": [
          0,
          1
         ],
         "title": {
          "text": "Count"
         }
        }
       }
      }
     },
     "metadata": {},
     "output_type": "display_data"
    },
    {
     "data": {
      "application/vnd.plotly.v1+json": {
       "config": {
        "plotlyServerURL": "https://plot.ly"
       },
       "data": [
        {
         "alignmentgroup": "True",
         "hovertemplate": "color=Angry<br>Emotion=%{x}<br>Count=%{y}<extra></extra>",
         "legendgroup": "Angry",
         "marker": {
          "color": "#636efa",
          "pattern": {
           "shape": ""
          }
         },
         "name": "Angry",
         "offsetgroup": "Angry",
         "orientation": "v",
         "showlegend": true,
         "textposition": "auto",
         "type": "bar",
         "x": [
          "Angry"
         ],
         "xaxis": "x",
         "y": [
          32585
         ],
         "yaxis": "y"
        },
        {
         "alignmentgroup": "True",
         "hovertemplate": "color=Disgust<br>Emotion=%{x}<br>Count=%{y}<extra></extra>",
         "legendgroup": "Disgust",
         "marker": {
          "color": "#EF553B",
          "pattern": {
           "shape": ""
          }
         },
         "name": "Disgust",
         "offsetgroup": "Disgust",
         "orientation": "v",
         "showlegend": true,
         "textposition": "auto",
         "type": "bar",
         "x": [
          "Disgust"
         ],
         "xaxis": "x",
         "y": [
          9299
         ],
         "yaxis": "y"
        },
        {
         "alignmentgroup": "True",
         "hovertemplate": "color=Fear<br>Emotion=%{x}<br>Count=%{y}<extra></extra>",
         "legendgroup": "Fear",
         "marker": {
          "color": "#00cc96",
          "pattern": {
           "shape": ""
          }
         },
         "name": "Fear",
         "offsetgroup": "Fear",
         "orientation": "v",
         "showlegend": true,
         "textposition": "auto",
         "type": "bar",
         "x": [
          "Fear"
         ],
         "xaxis": "x",
         "y": [
          2682
         ],
         "yaxis": "y"
        },
        {
         "alignmentgroup": "True",
         "hovertemplate": "color=Happy<br>Emotion=%{x}<br>Count=%{y}<extra></extra>",
         "legendgroup": "Happy",
         "marker": {
          "color": "#ab63fa",
          "pattern": {
           "shape": ""
          }
         },
         "name": "Happy",
         "offsetgroup": "Happy",
         "orientation": "v",
         "showlegend": true,
         "textposition": "auto",
         "type": "bar",
         "x": [
          "Happy"
         ],
         "xaxis": "x",
         "y": [
          15221
         ],
         "yaxis": "y"
        },
        {
         "alignmentgroup": "True",
         "hovertemplate": "color=Sad<br>Emotion=%{x}<br>Count=%{y}<extra></extra>",
         "legendgroup": "Sad",
         "marker": {
          "color": "#FFA15A",
          "pattern": {
           "shape": ""
          }
         },
         "name": "Sad",
         "offsetgroup": "Sad",
         "orientation": "v",
         "showlegend": true,
         "textposition": "auto",
         "type": "bar",
         "x": [
          "Sad"
         ],
         "xaxis": "x",
         "y": [
          68346
         ],
         "yaxis": "y"
        },
        {
         "alignmentgroup": "True",
         "hovertemplate": "color=Surprise<br>Emotion=%{x}<br>Count=%{y}<extra></extra>",
         "legendgroup": "Surprise",
         "marker": {
          "color": "#19d3f3",
          "pattern": {
           "shape": ""
          }
         },
         "name": "Surprise",
         "offsetgroup": "Surprise",
         "orientation": "v",
         "showlegend": true,
         "textposition": "auto",
         "type": "bar",
         "x": [
          "Surprise"
         ],
         "xaxis": "x",
         "y": [
          118
         ],
         "yaxis": "y"
        },
        {
         "alignmentgroup": "True",
         "hovertemplate": "color=Neutral<br>Emotion=%{x}<br>Count=%{y}<extra></extra>",
         "legendgroup": "Neutral",
         "marker": {
          "color": "#FF6692",
          "pattern": {
           "shape": ""
          }
         },
         "name": "Neutral",
         "offsetgroup": "Neutral",
         "orientation": "v",
         "showlegend": true,
         "textposition": "auto",
         "type": "bar",
         "x": [
          "Neutral"
         ],
         "xaxis": "x",
         "y": [
          51015
         ],
         "yaxis": "y"
        }
       ],
       "layout": {
        "barmode": "relative",
        "legend": {
         "title": {
          "text": "color"
         },
         "tracegroupgap": 0
        },
        "template": {
         "data": {
          "bar": [
           {
            "error_x": {
             "color": "#2a3f5f"
            },
            "error_y": {
             "color": "#2a3f5f"
            },
            "marker": {
             "line": {
              "color": "#E5ECF6",
              "width": 0.5
             },
             "pattern": {
              "fillmode": "overlay",
              "size": 10,
              "solidity": 0.2
             }
            },
            "type": "bar"
           }
          ],
          "barpolar": [
           {
            "marker": {
             "line": {
              "color": "#E5ECF6",
              "width": 0.5
             },
             "pattern": {
              "fillmode": "overlay",
              "size": 10,
              "solidity": 0.2
             }
            },
            "type": "barpolar"
           }
          ],
          "carpet": [
           {
            "aaxis": {
             "endlinecolor": "#2a3f5f",
             "gridcolor": "white",
             "linecolor": "white",
             "minorgridcolor": "white",
             "startlinecolor": "#2a3f5f"
            },
            "baxis": {
             "endlinecolor": "#2a3f5f",
             "gridcolor": "white",
             "linecolor": "white",
             "minorgridcolor": "white",
             "startlinecolor": "#2a3f5f"
            },
            "type": "carpet"
           }
          ],
          "choropleth": [
           {
            "colorbar": {
             "outlinewidth": 0,
             "ticks": ""
            },
            "type": "choropleth"
           }
          ],
          "contour": [
           {
            "colorbar": {
             "outlinewidth": 0,
             "ticks": ""
            },
            "colorscale": [
             [
              0,
              "#0d0887"
             ],
             [
              0.1111111111111111,
              "#46039f"
             ],
             [
              0.2222222222222222,
              "#7201a8"
             ],
             [
              0.3333333333333333,
              "#9c179e"
             ],
             [
              0.4444444444444444,
              "#bd3786"
             ],
             [
              0.5555555555555556,
              "#d8576b"
             ],
             [
              0.6666666666666666,
              "#ed7953"
             ],
             [
              0.7777777777777778,
              "#fb9f3a"
             ],
             [
              0.8888888888888888,
              "#fdca26"
             ],
             [
              1,
              "#f0f921"
             ]
            ],
            "type": "contour"
           }
          ],
          "contourcarpet": [
           {
            "colorbar": {
             "outlinewidth": 0,
             "ticks": ""
            },
            "type": "contourcarpet"
           }
          ],
          "heatmap": [
           {
            "colorbar": {
             "outlinewidth": 0,
             "ticks": ""
            },
            "colorscale": [
             [
              0,
              "#0d0887"
             ],
             [
              0.1111111111111111,
              "#46039f"
             ],
             [
              0.2222222222222222,
              "#7201a8"
             ],
             [
              0.3333333333333333,
              "#9c179e"
             ],
             [
              0.4444444444444444,
              "#bd3786"
             ],
             [
              0.5555555555555556,
              "#d8576b"
             ],
             [
              0.6666666666666666,
              "#ed7953"
             ],
             [
              0.7777777777777778,
              "#fb9f3a"
             ],
             [
              0.8888888888888888,
              "#fdca26"
             ],
             [
              1,
              "#f0f921"
             ]
            ],
            "type": "heatmap"
           }
          ],
          "heatmapgl": [
           {
            "colorbar": {
             "outlinewidth": 0,
             "ticks": ""
            },
            "colorscale": [
             [
              0,
              "#0d0887"
             ],
             [
              0.1111111111111111,
              "#46039f"
             ],
             [
              0.2222222222222222,
              "#7201a8"
             ],
             [
              0.3333333333333333,
              "#9c179e"
             ],
             [
              0.4444444444444444,
              "#bd3786"
             ],
             [
              0.5555555555555556,
              "#d8576b"
             ],
             [
              0.6666666666666666,
              "#ed7953"
             ],
             [
              0.7777777777777778,
              "#fb9f3a"
             ],
             [
              0.8888888888888888,
              "#fdca26"
             ],
             [
              1,
              "#f0f921"
             ]
            ],
            "type": "heatmapgl"
           }
          ],
          "histogram": [
           {
            "marker": {
             "pattern": {
              "fillmode": "overlay",
              "size": 10,
              "solidity": 0.2
             }
            },
            "type": "histogram"
           }
          ],
          "histogram2d": [
           {
            "colorbar": {
             "outlinewidth": 0,
             "ticks": ""
            },
            "colorscale": [
             [
              0,
              "#0d0887"
             ],
             [
              0.1111111111111111,
              "#46039f"
             ],
             [
              0.2222222222222222,
              "#7201a8"
             ],
             [
              0.3333333333333333,
              "#9c179e"
             ],
             [
              0.4444444444444444,
              "#bd3786"
             ],
             [
              0.5555555555555556,
              "#d8576b"
             ],
             [
              0.6666666666666666,
              "#ed7953"
             ],
             [
              0.7777777777777778,
              "#fb9f3a"
             ],
             [
              0.8888888888888888,
              "#fdca26"
             ],
             [
              1,
              "#f0f921"
             ]
            ],
            "type": "histogram2d"
           }
          ],
          "histogram2dcontour": [
           {
            "colorbar": {
             "outlinewidth": 0,
             "ticks": ""
            },
            "colorscale": [
             [
              0,
              "#0d0887"
             ],
             [
              0.1111111111111111,
              "#46039f"
             ],
             [
              0.2222222222222222,
              "#7201a8"
             ],
             [
              0.3333333333333333,
              "#9c179e"
             ],
             [
              0.4444444444444444,
              "#bd3786"
             ],
             [
              0.5555555555555556,
              "#d8576b"
             ],
             [
              0.6666666666666666,
              "#ed7953"
             ],
             [
              0.7777777777777778,
              "#fb9f3a"
             ],
             [
              0.8888888888888888,
              "#fdca26"
             ],
             [
              1,
              "#f0f921"
             ]
            ],
            "type": "histogram2dcontour"
           }
          ],
          "mesh3d": [
           {
            "colorbar": {
             "outlinewidth": 0,
             "ticks": ""
            },
            "type": "mesh3d"
           }
          ],
          "parcoords": [
           {
            "line": {
             "colorbar": {
              "outlinewidth": 0,
              "ticks": ""
             }
            },
            "type": "parcoords"
           }
          ],
          "pie": [
           {
            "automargin": true,
            "type": "pie"
           }
          ],
          "scatter": [
           {
            "fillpattern": {
             "fillmode": "overlay",
             "size": 10,
             "solidity": 0.2
            },
            "type": "scatter"
           }
          ],
          "scatter3d": [
           {
            "line": {
             "colorbar": {
              "outlinewidth": 0,
              "ticks": ""
             }
            },
            "marker": {
             "colorbar": {
              "outlinewidth": 0,
              "ticks": ""
             }
            },
            "type": "scatter3d"
           }
          ],
          "scattercarpet": [
           {
            "marker": {
             "colorbar": {
              "outlinewidth": 0,
              "ticks": ""
             }
            },
            "type": "scattercarpet"
           }
          ],
          "scattergeo": [
           {
            "marker": {
             "colorbar": {
              "outlinewidth": 0,
              "ticks": ""
             }
            },
            "type": "scattergeo"
           }
          ],
          "scattergl": [
           {
            "marker": {
             "colorbar": {
              "outlinewidth": 0,
              "ticks": ""
             }
            },
            "type": "scattergl"
           }
          ],
          "scattermapbox": [
           {
            "marker": {
             "colorbar": {
              "outlinewidth": 0,
              "ticks": ""
             }
            },
            "type": "scattermapbox"
           }
          ],
          "scatterpolar": [
           {
            "marker": {
             "colorbar": {
              "outlinewidth": 0,
              "ticks": ""
             }
            },
            "type": "scatterpolar"
           }
          ],
          "scatterpolargl": [
           {
            "marker": {
             "colorbar": {
              "outlinewidth": 0,
              "ticks": ""
             }
            },
            "type": "scatterpolargl"
           }
          ],
          "scatterternary": [
           {
            "marker": {
             "colorbar": {
              "outlinewidth": 0,
              "ticks": ""
             }
            },
            "type": "scatterternary"
           }
          ],
          "surface": [
           {
            "colorbar": {
             "outlinewidth": 0,
             "ticks": ""
            },
            "colorscale": [
             [
              0,
              "#0d0887"
             ],
             [
              0.1111111111111111,
              "#46039f"
             ],
             [
              0.2222222222222222,
              "#7201a8"
             ],
             [
              0.3333333333333333,
              "#9c179e"
             ],
             [
              0.4444444444444444,
              "#bd3786"
             ],
             [
              0.5555555555555556,
              "#d8576b"
             ],
             [
              0.6666666666666666,
              "#ed7953"
             ],
             [
              0.7777777777777778,
              "#fb9f3a"
             ],
             [
              0.8888888888888888,
              "#fdca26"
             ],
             [
              1,
              "#f0f921"
             ]
            ],
            "type": "surface"
           }
          ],
          "table": [
           {
            "cells": {
             "fill": {
              "color": "#EBF0F8"
             },
             "line": {
              "color": "white"
             }
            },
            "header": {
             "fill": {
              "color": "#C8D4E3"
             },
             "line": {
              "color": "white"
             }
            },
            "type": "table"
           }
          ]
         },
         "layout": {
          "annotationdefaults": {
           "arrowcolor": "#2a3f5f",
           "arrowhead": 0,
           "arrowwidth": 1
          },
          "autotypenumbers": "strict",
          "coloraxis": {
           "colorbar": {
            "outlinewidth": 0,
            "ticks": ""
           }
          },
          "colorscale": {
           "diverging": [
            [
             0,
             "#8e0152"
            ],
            [
             0.1,
             "#c51b7d"
            ],
            [
             0.2,
             "#de77ae"
            ],
            [
             0.3,
             "#f1b6da"
            ],
            [
             0.4,
             "#fde0ef"
            ],
            [
             0.5,
             "#f7f7f7"
            ],
            [
             0.6,
             "#e6f5d0"
            ],
            [
             0.7,
             "#b8e186"
            ],
            [
             0.8,
             "#7fbc41"
            ],
            [
             0.9,
             "#4d9221"
            ],
            [
             1,
             "#276419"
            ]
           ],
           "sequential": [
            [
             0,
             "#0d0887"
            ],
            [
             0.1111111111111111,
             "#46039f"
            ],
            [
             0.2222222222222222,
             "#7201a8"
            ],
            [
             0.3333333333333333,
             "#9c179e"
            ],
            [
             0.4444444444444444,
             "#bd3786"
            ],
            [
             0.5555555555555556,
             "#d8576b"
            ],
            [
             0.6666666666666666,
             "#ed7953"
            ],
            [
             0.7777777777777778,
             "#fb9f3a"
            ],
            [
             0.8888888888888888,
             "#fdca26"
            ],
            [
             1,
             "#f0f921"
            ]
           ],
           "sequentialminus": [
            [
             0,
             "#0d0887"
            ],
            [
             0.1111111111111111,
             "#46039f"
            ],
            [
             0.2222222222222222,
             "#7201a8"
            ],
            [
             0.3333333333333333,
             "#9c179e"
            ],
            [
             0.4444444444444444,
             "#bd3786"
            ],
            [
             0.5555555555555556,
             "#d8576b"
            ],
            [
             0.6666666666666666,
             "#ed7953"
            ],
            [
             0.7777777777777778,
             "#fb9f3a"
            ],
            [
             0.8888888888888888,
             "#fdca26"
            ],
            [
             1,
             "#f0f921"
            ]
           ]
          },
          "colorway": [
           "#636efa",
           "#EF553B",
           "#00cc96",
           "#ab63fa",
           "#FFA15A",
           "#19d3f3",
           "#FF6692",
           "#B6E880",
           "#FF97FF",
           "#FECB52"
          ],
          "font": {
           "color": "#2a3f5f"
          },
          "geo": {
           "bgcolor": "white",
           "lakecolor": "white",
           "landcolor": "#E5ECF6",
           "showlakes": true,
           "showland": true,
           "subunitcolor": "white"
          },
          "hoverlabel": {
           "align": "left"
          },
          "hovermode": "closest",
          "mapbox": {
           "style": "light"
          },
          "paper_bgcolor": "white",
          "plot_bgcolor": "#E5ECF6",
          "polar": {
           "angularaxis": {
            "gridcolor": "white",
            "linecolor": "white",
            "ticks": ""
           },
           "bgcolor": "#E5ECF6",
           "radialaxis": {
            "gridcolor": "white",
            "linecolor": "white",
            "ticks": ""
           }
          },
          "scene": {
           "xaxis": {
            "backgroundcolor": "#E5ECF6",
            "gridcolor": "white",
            "gridwidth": 2,
            "linecolor": "white",
            "showbackground": true,
            "ticks": "",
            "zerolinecolor": "white"
           },
           "yaxis": {
            "backgroundcolor": "#E5ECF6",
            "gridcolor": "white",
            "gridwidth": 2,
            "linecolor": "white",
            "showbackground": true,
            "ticks": "",
            "zerolinecolor": "white"
           },
           "zaxis": {
            "backgroundcolor": "#E5ECF6",
            "gridcolor": "white",
            "gridwidth": 2,
            "linecolor": "white",
            "showbackground": true,
            "ticks": "",
            "zerolinecolor": "white"
           }
          },
          "shapedefaults": {
           "line": {
            "color": "#2a3f5f"
           }
          },
          "ternary": {
           "aaxis": {
            "gridcolor": "white",
            "linecolor": "white",
            "ticks": ""
           },
           "baxis": {
            "gridcolor": "white",
            "linecolor": "white",
            "ticks": ""
           },
           "bgcolor": "#E5ECF6",
           "caxis": {
            "gridcolor": "white",
            "linecolor": "white",
            "ticks": ""
           }
          },
          "title": {
           "x": 0.05
          },
          "xaxis": {
           "automargin": true,
           "gridcolor": "white",
           "linecolor": "white",
           "ticks": "",
           "title": {
            "standoff": 15
           },
           "zerolinecolor": "white",
           "zerolinewidth": 2
          },
          "yaxis": {
           "automargin": true,
           "gridcolor": "white",
           "linecolor": "white",
           "ticks": "",
           "title": {
            "standoff": 15
           },
           "zerolinecolor": "white",
           "zerolinewidth": 2
          }
         }
        },
        "title": {
         "text": "Emotion Analysis Results - consolidated_results_손석민"
        },
        "xaxis": {
         "anchor": "y",
         "domain": [
          0,
          1
         ],
         "title": {
          "text": "Emotion"
         }
        },
        "yaxis": {
         "anchor": "x",
         "domain": [
          0,
          1
         ],
         "title": {
          "text": "Count"
         }
        }
       }
      }
     },
     "metadata": {},
     "output_type": "display_data"
    }
   ],
   "source": [
    "import os\n",
    "import json\n",
    "import plotly.express as px\n",
    "\n",
    "emotions = {\n",
    "    0: ['Angry', (0, 0, 255), (255, 255, 255)],\n",
    "    1: ['Disgust', (0, 102, 0), (255, 255, 255)],\n",
    "    2: ['Fear', (255, 255, 153), (0, 51, 51)],\n",
    "    3: ['Happy', (153, 0, 153), (255, 255, 255)],\n",
    "    4: ['Sad', (255, 0, 0), (255, 255, 255)],\n",
    "    5: ['Surprise', (0, 255, 0), (255, 255, 255)],\n",
    "    6: ['Neutral', (160, 160, 160), (255, 255, 255)]\n",
    "}\n",
    "\n",
    "# JSON 파일이 있는 폴더 경로\n",
    "json_folder_path = 'C:/Users/user/Downloads/media'\n",
    "\n",
    "# 통합 결과를 저장할 빈 딕셔너리 초기화\n",
    "all_consolidated_results = {}\n",
    "\n",
    "# JSON 파일 목록 얻기\n",
    "json_files = [f for f in os.listdir(json_folder_path) if f.endswith('.json')]\n",
    "\n",
    "# 각 JSON 파일 읽어와서 통합\n",
    "for json_file in json_files:\n",
    "    with open(os.path.join(json_folder_path, json_file), 'r') as file:\n",
    "        data = json.load(file)\n",
    "        # 파일 이름을 통한 구분 (예: 파일명이 'result1.json'이면 'result1'이 키로 사용됨)\n",
    "        key = os.path.splitext(json_file)[0]\n",
    "        all_consolidated_results[key] = {\n",
    "            \"emotion_counts\": {emotion_label: 0 for emotion_label in emotions},\n",
    "            \"emotion_names\": [emotions[label][0] for label in emotions],\n",
    "            \"emotion_values\": data[\"emotion_counts\"]\n",
    "        }\n",
    "\n",
    "        # 감정 카운트 집계\n",
    "        for label, count in data[\"emotion_counts\"].items():\n",
    "            all_consolidated_results[key][\"emotion_counts\"][int(label)] += count\n",
    "\n",
    "# 모든 통합 결과에 대해 그래프 생성\n",
    "for key, consolidated_results in all_consolidated_results.items():\n",
    "    fig = px.bar(\n",
    "        x=consolidated_results['emotion_names'],\n",
    "        y=consolidated_results['emotion_counts'],\n",
    "        labels={'x': 'Emotion', 'y': 'Count'},\n",
    "        title=f'Emotion Analysis Results - {key}',\n",
    "        color=consolidated_results['emotion_names']  # 각각의 컬럼에 대해 다른 색상 사용\n",
    "    )\n",
    "\n",
    "    # 여기서는 그래프를 화면에 표시하지만, 원하는 방식으로 활용 가능\n",
    "    fig.show()"
   ]
  },
  {
   "cell_type": "code",
   "execution_count": null,
   "metadata": {},
   "outputs": [],
   "source": []
  },
  {
   "cell_type": "code",
   "execution_count": null,
   "metadata": {},
   "outputs": [],
   "source": [
    "# 코드 확장\n",
    "# s3에 영상 적재하면 영상에서 데이터 추출을 ecs 나 fargate에서 하고,\n",
    "# 그 추출된 데이터를 rds에 저장하고 \n",
    "# 저장된 데이터를 ec2에 가져오는 과정에서 sqs를 사용하고 가져온 데이터를 dash에 보여주기\n",
    "\n",
    "import dash\n",
    "from dash import dcc, html\n",
    "from dash.dependencies import Input, Output\n",
    "import boto3\n",
    "from botocore.exceptions import NoCredentialsError\n",
    "from io import BytesIO\n",
    "\n",
    "# AWS S3, SQS, RDS 관련 설정 - 변경 필요\n",
    "AWS_ACCESS_KEY = 'your_access_key'\n",
    "AWS_SECRET_KEY = 'your_secret_key'\n",
    "S3_BUCKET = 'big-project-team3-emotion'\n",
    "S3_REGION = 'ap-northeast-2'\n",
    "SQS_QUEUE_URL = 'your_sqs_queue_url'\n",
    "RDS_ENDPOINT = 'your_rds_endpoint'\n",
    "RDS_PORT = 'your_rds_port'\n",
    "RDS_USER = 'your_rds_user'\n",
    "RDS_PASSWORD = 'your_rds_password'\n",
    "RDS_DB_NAME = 'your_rds_db_name'\n",
    "\n",
    "# Dash 애플리케이션 초기화\n",
    "app = dash.Dash(__name__)\n",
    "\n",
    "# 레이아웃 설정\n",
    "app.layout = html.Div([\n",
    "    dcc.Upload(\n",
    "        id='upload-data',\n",
    "        children=html.Div([\n",
    "            '드래그 앤 드롭 또는 ',\n",
    "            html.A('파일 선택')\n",
    "        ]),\n",
    "        multiple=False\n",
    "    ),\n",
    "    html.Div(id='output-data-upload')\n",
    "])\n",
    "\n",
    "# 파일 업로드 콜백 함수\n",
    "@app.callback(Output('output-data-upload', 'children'),\n",
    "              Input('upload-data', 'contents'))\n",
    "def update_output(contents):\n",
    "    if contents is not None:\n",
    "        try:\n",
    "            # AWS S3에 파일 업로드\n",
    "            s3 = boto3.client('s3', aws_access_key_id=AWS_ACCESS_KEY, aws_secret_access_key=AWS_SECRET_KEY, region_name=S3_REGION)\n",
    "            file_content = contents.encode('utf-8')\n",
    "            file_stream = BytesIO(file_content)\n",
    "            s3.upload_fileobj(file_stream, S3_BUCKET, 'uploaded_video.mp4')\n",
    "\n",
    "            # SQS에 메시지 전송\n",
    "            sqs = boto3.client('sqs', region_name=S3_REGION)\n",
    "            sqs.send_message(QueueUrl=SQS_QUEUE_URL, MessageBody='{\"data_location\": \"s3://{}/uploaded_video.mp4\"}')\n",
    "\n",
    "            return html.Div([\n",
    "                '파일이 성공적으로 업로드되었습니다.',\n",
    "                html.Video(src=f\"https://{S3_BUCKET}.s3.{S3_REGION}.amazonaws.com/uploaded_video.mp4\", controls=True)\n",
    "            ])\n",
    "        except NoCredentialsError:\n",
    "            return 'AWS 자격 증명이 올바르지 않습니다.'\n",
    "        except Exception as e:\n",
    "            return f'에러 발생: {str(e)}'\n",
    "\n",
    "# 애플리케이션 실행\n",
    "if __name__ == '__main__':\n",
    "    app.run_server(debug=True)\n",
    "\n",
    "\n",
    "\n",
    "# 이 코드에서는 업로드된 파일이 S3에 업로드되면, SQS에 메시지가 전송되고 \n",
    "# 해당 메시지에는 추출된 데이터의 위치인 S3 경로가 포함됩니다. \n",
    "# 이 메시지는 다른 서비스가 해당 데이터를 가져와서 필요한 처리를 수행하도록 도와줍니다. \n",
    "# 필요에 따라 ECS, Fargate, RDS에서의 데이터 처리 부분을 추가로 구현해야 합니다."
   ]
  }
 ],
 "metadata": {
  "kernelspec": {
   "display_name": "base",
   "language": "python",
   "name": "python3"
  },
  "language_info": {
   "codemirror_mode": {
    "name": "ipython",
    "version": 3
   },
   "file_extension": ".py",
   "mimetype": "text/x-python",
   "name": "python",
   "nbconvert_exporter": "python",
   "pygments_lexer": "ipython3",
   "version": "3.11.5"
  }
 },
 "nbformat": 4,
 "nbformat_minor": 2
}
